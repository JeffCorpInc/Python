{
 "cells": [
  {
   "cell_type": "code",
   "execution_count": 4,
   "metadata": {},
   "outputs": [],
   "source": [
    "#CONDITIONAL STATEMENTS\n",
    "\n",
    "# 1- If Statement\n",
    "# 2- Else Statement\n",
    "# 3- Elif Statement\n",
    "# 4- Nested Conditional Statements\n",
    "# 5- Examples"
   ]
  },
  {
   "cell_type": "code",
   "execution_count": 10,
   "metadata": {},
   "outputs": [
    {
     "name": "stdout",
     "output_type": "stream",
     "text": [
      "You are allowed to buy car\n"
     ]
    }
   ],
   "source": [
    "## IF STATEMENT\n",
    "\n",
    "age=21\n",
    "\n",
    "if age>20:\n",
    "    print(\"You are allowed to buy car\")"
   ]
  },
  {
   "cell_type": "code",
   "execution_count": 8,
   "metadata": {},
   "outputs": [
    {
     "name": "stdout",
     "output_type": "stream",
     "text": [
      "You are not allowed to vote\n"
     ]
    }
   ],
   "source": [
    "## ELSE STATEMENT - the condition will run if the 'if' statement is false\n",
    "\n",
    "age=19\n",
    "\n",
    "if age>20:\n",
    "    print(\"You are allowed to vote\")\n",
    "else:\n",
    "    print(\"You are not allowed to vote\")"
   ]
  },
  {
   "cell_type": "code",
   "execution_count": 9,
   "metadata": {},
   "outputs": [
    {
     "name": "stdout",
     "output_type": "stream",
     "text": [
      "You are out of limit\n"
     ]
    }
   ],
   "source": [
    "## ELIF STATEMENT - it allows to check for multiple conditions\n",
    "\n",
    "income = 20000\n",
    "\n",
    "if income < 29999:\n",
    "    print(\"You are out of limit\")\n",
    "elif income==20000:\n",
    "    print(\"You are eligible to apply\")\n",
    "else:\n",
    "    print(\"You are eligible\")"
   ]
  },
  {
   "cell_type": "code",
   "execution_count": 15,
   "metadata": {},
   "outputs": [
    {
     "name": "stdout",
     "output_type": "stream",
     "text": [
      "Negative\n",
      "Even\n"
     ]
    }
   ],
   "source": [
    "## NESTED CONDITIONAL STATEMENTS - you can place one or more conditions inside conditional statements\n",
    "\n",
    "numb = int(input(\"Enter Number\"))\n",
    "\n",
    "if numb>=0:\n",
    "    print(\"Positive\")\n",
    "    if numb%2==0:\n",
    "        print(\"Even\")\n",
    "    else:\n",
    "        print(\"Odd\")\n",
    "else:\n",
    "    print(\"Negative\")\n",
    "    if numb%2==0:\n",
    "        print(\"Even\")\n",
    "    else:\n",
    "        print(\"Odd\")"
   ]
  },
  {
   "cell_type": "code",
   "execution_count": 1,
   "metadata": {},
   "outputs": [
    {
     "name": "stdout",
     "output_type": "stream",
     "text": [
      "2002 is not a leap year\n"
     ]
    }
   ],
   "source": [
    "## FOR EXAMPLE\n",
    "\n",
    "\n",
    "## Identify a leap year\n",
    "\n",
    "year = int(input(\"Enter Year to identify if Leap year or not\"))\n",
    "\n",
    "if (year%4==0):\n",
    "    if (year%100==0):\n",
    "        if (year%400==0):\n",
    "            print(year, \"is a leap year\")\n",
    "        else:\n",
    "            print(year, \"is not a leap year\")\n",
    "    else:\n",
    "        print(year, \"is a leap year\")\n",
    "else:\n",
    "    print(year, \"is not a leap year\")"
   ]
  },
  {
   "cell_type": "code",
   "execution_count": 23,
   "metadata": {},
   "outputs": [
    {
     "name": "stdout",
     "output_type": "stream",
     "text": [
      "Result:  225.0\n"
     ]
    }
   ],
   "source": [
    "## Simple Calculator\n",
    "\n",
    "num1 = float(input(\"1st Number\"))\n",
    "num2 = float(input(\"2nd Number\"))\n",
    "opr = input(\"Enter Operator(+,-,x,/)\")\n",
    "\n",
    "if opr == '+':\n",
    "    res = num1+num2\n",
    "elif opr == '-':\n",
    "    res = num1-num2\n",
    "elif opr == '*':\n",
    "    res = num1*num2\n",
    "elif opr == '/':\n",
    "    if num2 != 0:\n",
    "        res = num1/num2\n",
    "else:\n",
    "    print(\"Inlaid Operator\")\n",
    "\n",
    "print(\"Result: \", res)"
   ]
  },
  {
   "cell_type": "code",
   "execution_count": 33,
   "metadata": {},
   "outputs": [
    {
     "name": "stdout",
     "output_type": "stream",
     "text": [
      "Ticket Price:  Free $\n"
     ]
    }
   ],
   "source": [
    "## Determine the ticket price based on age, and discount if there is a student\n",
    "\n",
    "age = int(input(\"Enter your age\"))\n",
    "is_student = input(\"Are you a student? (yes/no): \")\n",
    "\n",
    "if age < 5:\n",
    "    price = \"Free $\"\n",
    "\n",
    "elif age <= 18:\n",
    "    price = \"10$\"\n",
    "\n",
    "elif age > 18:\n",
    "    if is_student == 'yes':\n",
    "        price = \"15$\"\n",
    "    else:\n",
    "        price = \"18$\"\n",
    "\n",
    "print(\"Ticket Price: \",price)"
   ]
  }
 ],
 "metadata": {
  "kernelspec": {
   "display_name": "Python 3",
   "language": "python",
   "name": "python3"
  },
  "language_info": {
   "codemirror_mode": {
    "name": "ipython",
    "version": 3
   },
   "file_extension": ".py",
   "mimetype": "text/x-python",
   "name": "python",
   "nbconvert_exporter": "python",
   "pygments_lexer": "ipython3",
   "version": "3.12.0"
  }
 },
 "nbformat": 4,
 "nbformat_minor": 2
}
