{
 "cells": [
  {
   "cell_type": "code",
   "execution_count": 1,
   "metadata": {},
   "outputs": [],
   "source": [
    "## OPERATORS\n",
    "\n",
    "# 1- Arthmetic Operators\n",
    "# 2- Comparison Operators\n",
    "# 3- Logical Operators"
   ]
  },
  {
   "cell_type": "code",
   "execution_count": 3,
   "metadata": {},
   "outputs": [
    {
     "name": "stdout",
     "output_type": "stream",
     "text": [
      "15\n",
      "5\n",
      "50\n",
      "2.0\n",
      "2\n",
      "0\n",
      "100000\n"
     ]
    }
   ],
   "source": [
    "## ARTHMETIC OPERATORS\n",
    "\n",
    "var1 = 10\n",
    "var2 = 5\n",
    "\n",
    "add = var1+var2             #addition\n",
    "sub = var1-var2             #subtraction\n",
    "mult = var1*var2            #multiplication\n",
    "div = var1/var2             #division\n",
    "floor_div = var1//var2      #floor division - it will remove the decimal point and give you the nearest value\n",
    "mod = var1%var2             #modulus - it will give you remainder\n",
    "exp = var1**var2            #exponentiation - power of 10 is 5\n",
    "\n",
    "print(add)\n",
    "print(sub)\n",
    "print(mult)\n",
    "print(div)\n",
    "print(floor_div)\n",
    "print(mod)\n",
    "print(exp)"
   ]
  },
  {
   "cell_type": "code",
   "execution_count": 21,
   "metadata": {},
   "outputs": [
    {
     "name": "stdout",
     "output_type": "stream",
     "text": [
      "integer True\n",
      "string False\n",
      "string True\n",
      "Greater False\n",
      "Less True\n",
      "GE True\n",
      "LE True\n"
     ]
    }
   ],
   "source": [
    "## COMPARISON OPERATOR\n",
    "\n",
    "# == Equal to\n",
    "\n",
    "a = 10\n",
    "b = 10\n",
    "print(\"integer\", a==b)\n",
    "\n",
    "str1 = \"Jaff\"           #This can also implement on strings, Due to case sensitivity\n",
    "str2 = \"jaff\"\n",
    "\n",
    "str = str1 == str2\n",
    "print(\"string\",str)\n",
    "\n",
    "# =! Not Equal to\n",
    "\n",
    "str = str1 != str2\n",
    "print(\"string\",strr)\n",
    "\n",
    "# > Greater Than\n",
    "\n",
    "num1 = 12\n",
    "num2 = 45\n",
    "\n",
    "print(\"Greater\",num1>num2)\n",
    "\n",
    "# < Less Than\n",
    "\n",
    "print(\"Less\",num1<num2)\n",
    "\n",
    "# >= Greater Than Equal to && <= Less Than Equal to\n",
    "\n",
    "num3 = 12\n",
    "num4 = 12\n",
    "\n",
    "print(\"GE\",num3>=num4)\n",
    "print(\"LE\",num4<=num3)\n"
   ]
  },
  {
   "cell_type": "code",
   "execution_count": 27,
   "metadata": {},
   "outputs": [
    {
     "name": "stdout",
     "output_type": "stream",
     "text": [
      "True\n",
      "True\n"
     ]
    },
    {
     "data": {
      "text/plain": [
       "True"
      ]
     },
     "execution_count": 27,
     "metadata": {},
     "output_type": "execute_result"
    }
   ],
   "source": [
    "## LOGICAL OPERATOR\n",
    "\n",
    "# And - Both should be true\n",
    "\n",
    "X = True ; Y = True\n",
    "print(X and Y)\n",
    "\n",
    "# Or - One should be true or both should be false\n",
    "\n",
    "X = True ; Y = False\n",
    "print(X or Y)\n",
    "\n",
    "# Not - Inverse of any boolean operator\n",
    "\n",
    "not X"
   ]
  }
 ],
 "metadata": {
  "kernelspec": {
   "display_name": "Python 3",
   "language": "python",
   "name": "python3"
  },
  "language_info": {
   "codemirror_mode": {
    "name": "ipython",
    "version": 3
   },
   "file_extension": ".py",
   "mimetype": "text/x-python",
   "name": "python",
   "nbconvert_exporter": "python",
   "pygments_lexer": "ipython3",
   "version": "3.12.0"
  }
 },
 "nbformat": 4,
 "nbformat_minor": 2
}
