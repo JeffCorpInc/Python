{
 "cells": [
  {
   "cell_type": "code",
   "execution_count": 1,
   "metadata": {},
   "outputs": [],
   "source": [
    "## VARIABLES\n",
    "\n",
    "# 1- Declaring and assigning\n",
    "# 2- Naming convention\n",
    "# 3- Invalid variables\n",
    "# 4- Understanding Variable types\n",
    "# 5- Type checking and conversion\n",
    "# 6- Dynamic typing \n",
    "# 7- Example : Calculator\n"
   ]
  },
  {
   "cell_type": "code",
   "execution_count": 3,
   "metadata": {},
   "outputs": [
    {
     "name": "stdout",
     "output_type": "stream",
     "text": [
      "age:  22\n",
      "name:  jaff\n",
      "height  5.12\n",
      "Active:  True\n"
     ]
    }
   ],
   "source": [
    "## DECLARING VARIABLE & ASSIGNING\n",
    "\n",
    "age = 22\n",
    "name = \"jaff\"\n",
    "height = 5.12\n",
    "is_here = True\n",
    "\n",
    "## printing  variables\n",
    "\n",
    "print(\"age: \", age)\n",
    "print(\"name: \", name)\n",
    "print(\"height \", height)\n",
    "print(\"Active: \", is_here)\n"
   ]
  },
  {
   "cell_type": "code",
   "execution_count": 1,
   "metadata": {},
   "outputs": [],
   "source": [
    "## NAMING  CONVENTION, How to declare variable names\n",
    "\n",
    "## 1-Variables should be descriptive\n",
    "## 2-They must start with letter of \" _ \" and contains letter, numbers, underscores\n",
    "## 3-They nust be case sensitive\n",
    "\n",
    "first_name = \"mehdi\"\n",
    "last_name = \"jaff\""
   ]
  },
  {
   "cell_type": "code",
   "execution_count": 5,
   "metadata": {},
   "outputs": [],
   "source": [
    "# INVALID VARIABLES NAME\n",
    "\n",
    "## 1- 2age = 30\n",
    "## 2- first-name = \"mehdi\"\n",
    "## 3- @name = \"jaff\""
   ]
  },
  {
   "cell_type": "code",
   "execution_count": 6,
   "metadata": {},
   "outputs": [],
   "source": [
    "## UNDERSTANDING VARIABLE TYPES\n",
    "\n",
    "## Python is dynamically typed, type of variable is determined at runtime\n",
    "\n",
    "age = 22 #int\n",
    "height = 5.12 #float\n",
    "first_name = 'jaff' #str"
   ]
  },
  {
   "cell_type": "code",
   "execution_count": 8,
   "metadata": {},
   "outputs": [
    {
     "name": "stdout",
     "output_type": "stream",
     "text": [
      "<class 'int'>\n",
      "22\n",
      "<class 'str'>\n"
     ]
    }
   ],
   "source": [
    "## TYPE CHECKING AND CONVERSION, Can we change from one data type to another\n",
    "\n",
    "print(type(age))\n",
    "print(age)\n",
    "\n",
    "age_str = str(age)\n",
    "print(type(age_str))"
   ]
  },
  {
   "cell_type": "code",
   "execution_count": 2,
   "metadata": {},
   "outputs": [
    {
     "name": "stdout",
     "output_type": "stream",
     "text": [
      "50\n",
      "<class 'int'>\n"
     ]
    }
   ],
   "source": [
    "# Converting string into integer\n",
    "\n",
    "height='50'\n",
    "print(int(height))\n",
    "print(type(int(height)))"
   ]
  },
  {
   "cell_type": "code",
   "execution_count": 14,
   "metadata": {},
   "outputs": [
    {
     "name": "stdout",
     "output_type": "stream",
     "text": [
      "2\n",
      "<class 'int'>\n"
     ]
    },
    {
     "data": {
      "text/plain": [
       "2.0"
      ]
     },
     "execution_count": 14,
     "metadata": {},
     "output_type": "execute_result"
    }
   ],
   "source": [
    "# Converting float into integer\n",
    "\n",
    "flo = 2.3\n",
    "print(int(flo))\n",
    "print(type(int(flo)))\n",
    "float(int(flo))"
   ]
  },
  {
   "cell_type": "code",
   "execution_count": 15,
   "metadata": {},
   "outputs": [
    {
     "name": "stdout",
     "output_type": "stream",
     "text": [
      "10 <class 'int'>\n",
      "jaff <class 'str'>\n",
      "1.2 <class 'float'>\n"
     ]
    }
   ],
   "source": [
    "## DYNAMIC TYPING \n",
    "## Python allows the type of a variable to change as the program executes\n",
    "\n",
    "# we can use same variable throughout the program by assigning different data types. \n",
    "\n",
    "var = 10\n",
    "print(var,type(var))\n",
    "\n",
    "var = 'jaff'\n",
    "print(var,type(var))\n",
    "\n",
    "var = 1.2\n",
    "print(var,type(var))"
   ]
  },
  {
   "cell_type": "code",
   "execution_count": 3,
   "metadata": {},
   "outputs": [
    {
     "name": "stdout",
     "output_type": "stream",
     "text": [
      "45 <class 'int'>\n"
     ]
    }
   ],
   "source": [
    "## For exaple, If we take input from the user\n",
    "\n",
    "what_age = int(input(\"Enter your age\"))\n",
    "print(what_age, type(what_age))"
   ]
  },
  {
   "cell_type": "code",
   "execution_count": 4,
   "metadata": {},
   "outputs": [
    {
     "name": "stdout",
     "output_type": "stream",
     "text": [
      "Sum 901.0\n",
      "Sub -793.0\n",
      "Multiply 45738.0\n",
      "Division 0.06375442739079103\n"
     ]
    }
   ],
   "source": [
    "## For example, Create a calculator\n",
    "\n",
    "# taking input\n",
    "\n",
    "num1 = float(input(\"Enter First Number\"))\n",
    "num2 = float(input(\"Enter Second Number\"))\n",
    "\n",
    "# Arthimetic Operations\n",
    "\n",
    "addition = num1 + num2\n",
    "subtraction = num1 - num2\n",
    "multiplication = num1 * num2\n",
    "quotient = num1 / num2\n",
    "\n",
    "# Displaying\n",
    "\n",
    "print(\"Sum\", addition)\n",
    "print(\"Sub\", subtraction)\n",
    "print(\"Multiply\", multiplication)\n",
    "print(\"Division\", quotient)\n",
    "\n"
   ]
  }
 ],
 "metadata": {
  "kernelspec": {
   "display_name": "Python 3",
   "language": "python",
   "name": "python3"
  },
  "language_info": {
   "codemirror_mode": {
    "name": "ipython",
    "version": 3
   },
   "file_extension": ".py",
   "mimetype": "text/x-python",
   "name": "python",
   "nbconvert_exporter": "python",
   "pygments_lexer": "ipython3",
   "version": "3.12.0"
  }
 },
 "nbformat": 4,
 "nbformat_minor": 2
}
