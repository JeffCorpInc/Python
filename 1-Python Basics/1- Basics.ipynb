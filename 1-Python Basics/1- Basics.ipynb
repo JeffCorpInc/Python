{
 "cells": [
  {
   "cell_type": "code",
   "execution_count": null,
   "metadata": {},
   "outputs": [],
   "source": [
    "## BASICS OF PYTHON\n",
    "\n",
    "# 1- Case Sensitivity\n",
    "# 2- Indentation\n",
    "# 3- Line Continuation\n",
    "# 4- Multiple statement in a single line\n",
    "# 5- Understanding Sementics and type Inference\n",
    "# 6- Single comment, Double comment, & Commenting"
   ]
  },
  {
   "cell_type": "code",
   "execution_count": 12,
   "metadata": {},
   "outputs": [
    {
     "name": "stdout",
     "output_type": "stream",
     "text": [
      "hello world\n"
     ]
    }
   ],
   "source": [
    "print('hello world')"
   ]
  },
  {
   "cell_type": "code",
   "execution_count": 13,
   "metadata": {},
   "outputs": [
    {
     "data": {
      "text/plain": [
       "2"
      ]
     },
     "execution_count": 13,
     "metadata": {},
     "output_type": "execute_result"
    }
   ],
   "source": [
    "1+1"
   ]
  },
  {
   "cell_type": "code",
   "execution_count": 14,
   "metadata": {},
   "outputs": [],
   "source": [
    "## We can wirte any comment using 2 hash signs"
   ]
  },
  {
   "cell_type": "code",
   "execution_count": 20,
   "metadata": {},
   "outputs": [
    {
     "name": "stdout",
     "output_type": "stream",
     "text": [
      "mehdi\n",
      "jaff\n",
      "4\n"
     ]
    }
   ],
   "source": [
    "## CASE SENSITIVITY - Python is case snesitive\n",
    "\n",
    "name=\"mehdi\"\n",
    "Name=\"jaff\"\n",
    "\n",
    "## both are different considered as different identifiers unless we use same variables\n",
    "\n",
    "print(name)\n",
    "print(Name)\n",
    "\n",
    "numb = 1\n",
    "numb = 2+2\n",
    "\n",
    "print(numb)"
   ]
  },
  {
   "cell_type": "code",
   "execution_count": 26,
   "metadata": {},
   "outputs": [
    {
     "name": "stdout",
     "output_type": "stream",
     "text": [
      "Price is less than 30\n",
      "30\n"
     ]
    }
   ],
   "source": [
    "## INDENTATION, Using \" : \" we can use indentation in python\n",
    "\n",
    "price = 10+20\n",
    "if price <= 30:\n",
    "    print(\"Price is less than 30\")\n",
    "print(price)"
   ]
  },
  {
   "cell_type": "code",
   "execution_count": 29,
   "metadata": {},
   "outputs": [
    {
     "name": "stdout",
     "output_type": "stream",
     "text": [
      "183\n"
     ]
    }
   ],
   "source": [
    "## LINE CONTINUATION, Using \" \\ \" we can continue the statement from the next line\n",
    "\n",
    "total_budget = 7+5+5+\\\n",
    "72+94\n",
    "\n",
    "print(total_budget)"
   ]
  },
  {
   "cell_type": "code",
   "execution_count": 30,
   "metadata": {},
   "outputs": [
    {
     "name": "stdout",
     "output_type": "stream",
     "text": [
      "113\n"
     ]
    }
   ],
   "source": [
    "## MULTIPLE STATEMENT IN A SINGLE LINE, Using \" ; \" we can write multiple statements\n",
    "\n",
    "x = 10 ; y = 123 ; z = y - x\n",
    "print(z) "
   ]
  },
  {
   "cell_type": "code",
   "execution_count": 38,
   "metadata": {},
   "outputs": [
    {
     "data": {
      "text/plain": [
       "int"
      ]
     },
     "execution_count": 38,
     "metadata": {},
     "output_type": "execute_result"
    }
   ],
   "source": [
    " ## UNDERSTANDING SEMENTICS\n",
    "\n",
    "age = 29\n",
    "name = \"Mehdi\"\n",
    "flo = 2.2\n",
    "\n",
    "type(age)\n"
   ]
  },
  {
   "cell_type": "code",
   "execution_count": 39,
   "metadata": {},
   "outputs": [
    {
     "data": {
      "text/plain": [
       "str"
      ]
     },
     "execution_count": 39,
     "metadata": {},
     "output_type": "execute_result"
    }
   ],
   "source": [
    "type(name)"
   ]
  },
  {
   "cell_type": "code",
   "execution_count": 40,
   "metadata": {},
   "outputs": [
    {
     "data": {
      "text/plain": [
       "float"
      ]
     },
     "execution_count": 40,
     "metadata": {},
     "output_type": "execute_result"
    }
   ],
   "source": [
    "type(flo)"
   ]
  },
  {
   "cell_type": "code",
   "execution_count": 41,
   "metadata": {},
   "outputs": [
    {
     "name": "stdout",
     "output_type": "stream",
     "text": [
      "<class 'int'>\n",
      "<class 'str'>\n"
     ]
    }
   ],
   "source": [
    "## TYPE INFERENCE\n",
    "\n",
    "var = 10\n",
    "print(type(var))\n",
    "var = \"mehdi\"\n",
    "print(type(var))\n"
   ]
  }
 ],
 "metadata": {
  "kernelspec": {
   "display_name": "Python 3",
   "language": "python",
   "name": "python3"
  },
  "language_info": {
   "codemirror_mode": {
    "name": "ipython",
    "version": 3
   },
   "file_extension": ".py",
   "mimetype": "text/x-python",
   "name": "python",
   "nbconvert_exporter": "python",
   "pygments_lexer": "ipython3",
   "version": "3.12.0"
  }
 },
 "nbformat": 4,
 "nbformat_minor": 2
}
