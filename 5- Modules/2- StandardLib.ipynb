{
 "cells": [
  {
   "cell_type": "code",
   "execution_count": null,
   "metadata": {},
   "outputs": [],
   "source": [
    "## STANDARD LIBRARY\n",
    "\n",
    "# 1- Array Library\n",
    "# 2- Random Library\n",
    "# 3- OS Library\n",
    "# 4- High Level Operations on files\n",
    "# 5- Data Serialization\n",
    "# 6- CSV Library\n",
    "# 7- Data time & time Library\n",
    "# 8- Regular Expression Library"
   ]
  },
  {
   "cell_type": "code",
   "execution_count": null,
   "metadata": {},
   "outputs": [],
   "source": [
    "## STANDARD LIBRARY - Python Standard Library is a vast collection of modules and packages that come bundled with Python, Providing wide\n",
    "#                     wide range of functionalities"
   ]
  },
  {
   "cell_type": "code",
   "execution_count": null,
   "metadata": {},
   "outputs": [
    {
     "name": "stdout",
     "output_type": "stream",
     "text": [
      "array('i', [1, 2, 3, 4, 5])\n"
     ]
    }
   ],
   "source": [
    "## IMPORTING ARRAY LIBRARY\n",
    "\n",
    "import array\n",
    "arr = array.array('i',[1,2,3,4,5])\n",
    "print(arr)"
   ]
  },
  {
   "cell_type": "code",
   "execution_count": null,
   "metadata": {},
   "outputs": [
    {
     "name": "stdout",
     "output_type": "stream",
     "text": [
      "15\n",
      "Sting\n"
     ]
    }
   ],
   "source": [
    "## RANDOM LIBRARY\n",
    "\n",
    "import random\n",
    "ran_int = random.randint(1,20)                          # It is picking up random integer from 1 - 20\n",
    "ran_str = random.choice(['Sting','Cola','Sprite'])      # It is picking up random String\n",
    "\n",
    "print(ran_int)\n",
    "print(ran_str)"
   ]
  },
  {
   "cell_type": "code",
   "execution_count": null,
   "metadata": {},
   "outputs": [
    {
     "name": "stdout",
     "output_type": "stream",
     "text": [
      "c:\\Users\\medhi_jaff\\Documents\\GitHub\\Getting Started with Python\\Python\\5- Modules\n"
     ]
    }
   ],
   "source": [
    "## OS LIBRARY - Used for File and Direcotry Access\n",
    "\n",
    "import os\n",
    "print(os.getcwd())                                  # getcwd = current working directory"
   ]
  },
  {
   "cell_type": "code",
   "execution_count": null,
   "metadata": {},
   "outputs": [],
   "source": [
    "## HIGH LEVEL OPERATIONS ON FILES\n",
    "\n",
    "# Duplicating the file\n",
    "\n",
    "import shutil\n",
    "shutil.copyfile('source.txt','source_copy.txt')     # It \"copyfile\" will duplicate the file\n",
    "\n",
    "# Creating Folder using os function \n",
    "\n",
    "os.mkdir('Testing_Folder')"
   ]
  },
  {
   "cell_type": "code",
   "execution_count": null,
   "metadata": {},
   "outputs": [
    {
     "name": "stdout",
     "output_type": "stream",
     "text": [
      "{\"Name\": \"Mehdi\", \"Age\": 22, \"Location\": \"Karachi\"}\n",
      "<class 'str'>\n",
      "{'Name': 'Mehdi', 'Age': 22, 'Location': 'Karachi'}\n",
      "<class 'dict'>\n"
     ]
    }
   ],
   "source": [
    "## DATA SERIALIZATION\n",
    "\n",
    "# Converting Dictionary into JSON form\n",
    "\n",
    "import json\n",
    "\n",
    "data_in_dictionary = {'Name':'Mehdi','Age':22,'Location':'Karachi'}\n",
    "\n",
    "into_json = json.dumps(data_in_dictionary)                              # dumps is used to convert file into json format(str)\n",
    "print(into_json)\n",
    "print(type(into_json))\n",
    "\n",
    "# Converting JSON form into Dictionary\n",
    "\n",
    "into_json = json.loads(into_json)                                       # loads is used to convert file into dictionary format(dict)\n",
    "print(into_json)\n",
    "print(type(into_json4))\n"
   ]
  },
  {
   "cell_type": "code",
   "execution_count": null,
   "metadata": {},
   "outputs": [
    {
     "name": "stdout",
     "output_type": "stream",
     "text": [
      "['Name', 'Age']\n",
      "['Mehdi', '22']\n"
     ]
    }
   ],
   "source": [
    "## CSV LIBRARY\n",
    "\n",
    "import csv\n",
    "\n",
    "with open('example.csv',mode='w',newline='') as file:               # (File name, Mode = Read or Write)\n",
    "    writer=csv.writer(file)\n",
    "    writer.writerow(['Name','Age'])\n",
    "    writer.writerow(['Mehdi',22])\n",
    "\n",
    "with open('example.csv',mode='r') as file:\n",
    "    reader=csv.reader(file)\n",
    "    for row in reader:\n",
    "        print(row)\n",
    "    \n",
    "\n",
    "\n"
   ]
  },
  {
   "cell_type": "code",
   "execution_count": null,
   "metadata": {},
   "outputs": [
    {
     "name": "stdout",
     "output_type": "stream",
     "text": [
      "2024-11-06 22:14:32.266520\n",
      "2024-11-05 22:14:32.266520\n"
     ]
    }
   ],
   "source": [
    "## DATETIME LIBRARY\n",
    "\n",
    "from datetime import datetime,timedelta\n",
    "\n",
    "now = datetime.now()                                # Current Time and Date\n",
    "print(now)\n",
    "\n",
    "yesterday = now - timedelta(days=1)                 # One day back\n",
    "print(yesterday)"
   ]
  },
  {
   "cell_type": "code",
   "execution_count": null,
   "metadata": {},
   "outputs": [
    {
     "name": "stdout",
     "output_type": "stream",
     "text": [
      "1730913383.4974582\n",
      "1730913385.4983578\n"
     ]
    }
   ],
   "source": [
    "## TIME LIBRARY\n",
    "\n",
    "import time\n",
    "print(time.time())\n",
    "\n",
    "time.sleep(2)                           # It will sleep/hold the code execution for 2 sec\n",
    "print(time.time())"
   ]
  },
  {
   "cell_type": "code",
   "execution_count": 27,
   "metadata": {},
   "outputs": [
    {
     "name": "stdout",
     "output_type": "stream",
     "text": [
      "231\n"
     ]
    }
   ],
   "source": [
    "## REGULAR EXPRESSION LIBRARY\n",
    "\n",
    "import re\n",
    "\n",
    "pattern = r'\\d+'\n",
    "text = \"There are 231 cars in the 2 Parking\"\n",
    "match = re.search(pattern,text)\n",
    "print(match.group())"
   ]
  }
 ],
 "metadata": {
  "kernelspec": {
   "display_name": "Python 3",
   "language": "python",
   "name": "python3"
  },
  "language_info": {
   "codemirror_mode": {
    "name": "ipython",
    "version": 3
   },
   "file_extension": ".py",
   "mimetype": "text/x-python",
   "name": "python",
   "nbconvert_exporter": "python",
   "pygments_lexer": "ipython3",
   "version": "3.12.0"
  }
 },
 "nbformat": 4,
 "nbformat_minor": 2
}
