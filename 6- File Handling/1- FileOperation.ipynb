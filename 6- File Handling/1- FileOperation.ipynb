{
 "cells": [
  {
   "cell_type": "code",
   "execution_count": null,
   "metadata": {},
   "outputs": [],
   "source": [
    "## FILE OPERATION\n",
    "\n",
    "# 0- Reading a file \n",
    "# 1- Wrting a file \n",
    "# 2- Binary files\n",
    "# 3- W+ Operation"
   ]
  },
  {
   "cell_type": "code",
   "execution_count": null,
   "metadata": {},
   "outputs": [],
   "source": [
    "## FILE OPERATION - File handling is a crucial part of Programming language. Pyhton has built-in function and methods\n",
    "#                    to read and write to file, both text and binary."
   ]
  },
  {
   "cell_type": "code",
   "execution_count": null,
   "metadata": {},
   "outputs": [
    {
     "name": "stdout",
     "output_type": "stream",
     "text": [
      "Hello Beautiful people\n",
      "How are you guys\n"
     ]
    }
   ],
   "source": [
    "## READING A FILE\n",
    "\n",
    "with open('example.txt',mode='r') as file:\n",
    "    content=file.read()\n",
    "    print(content)"
   ]
  },
  {
   "cell_type": "code",
   "execution_count": null,
   "metadata": {},
   "outputs": [
    {
     "name": "stdout",
     "output_type": "stream",
     "text": [
      "Hello Beautiful people\n",
      "How are you guys\n",
      "I am file\n",
      "My name is Mehdi Jaffari\n"
     ]
    }
   ],
   "source": [
    "# Reading Line by Line\n",
    "\n",
    "with open('example.txt',mode='r') as file:              # r= Read Mode \n",
    "    for line in file:\n",
    "        print(line.strip())                     # Strip() will remove the newline Spaces between lines"
   ]
  },
  {
   "cell_type": "code",
   "execution_count": null,
   "metadata": {},
   "outputs": [],
   "source": [
    "## WRITING A FILE (Overwriting)\n",
    "\n",
    "with open('example.txt',mode='w') as file:              # w= Write Mode\n",
    "    file.write(\"Its Good to hear that\\n\")\n",
    "    file.write(\"Its nice to meet you\\n\")"
   ]
  },
  {
   "cell_type": "code",
   "execution_count": null,
   "metadata": {},
   "outputs": [],
   "source": [
    "# (Without Overwriting)\n",
    "\n",
    "with open('example.txt',mode='a') as file:              # a=Append Mode\n",
    "    file.write(\"What do you do?\\n\")\n",
    "    file.write(\"I am Software Engineer\\n\")"
   ]
  },
  {
   "cell_type": "code",
   "execution_count": null,
   "metadata": {},
   "outputs": [],
   "source": [
    "# Writing List of Lines\n",
    "\n",
    "line = [\n",
    "    'I am adding these list of lines using \"writeline()\" Function\\n',\n",
    "    'I am a Data Analyst by Profession'\n",
    "]\n",
    "\n",
    "with open('example.txt','a') as file:\n",
    "    file.writelines(line)                               # writelines() will add group of line into file"
   ]
  },
  {
   "cell_type": "code",
   "execution_count": 9,
   "metadata": {},
   "outputs": [],
   "source": [
    "## BINARY FILES\n",
    "\n",
    "# Writing a Binary File\n",
    "\n",
    "data = b'\\x00\\x01\\x02\\x03\\x04'\n",
    "\n",
    "with open('example.bin','wb') as file:\n",
    "    file.write(data)"
   ]
  },
  {
   "cell_type": "code",
   "execution_count": 10,
   "metadata": {},
   "outputs": [
    {
     "name": "stdout",
     "output_type": "stream",
     "text": [
      "b'\\x00\\x01\\x02\\x03\\x04'\n"
     ]
    }
   ],
   "source": [
    "# Reading a Binary File\n",
    "\n",
    "with open('example.bin','rb') as file:\n",
    "    content = file.read()\n",
    "    print(content)"
   ]
  },
  {
   "cell_type": "code",
   "execution_count": 12,
   "metadata": {},
   "outputs": [
    {
     "name": "stdout",
     "output_type": "stream",
     "text": [
      "This is the new file\n",
      "Hello to the world\n",
      "\n"
     ]
    }
   ],
   "source": [
    "## W+ OPERATION\n",
    "\n",
    "# Writing and Reading the file\n",
    "\n",
    "with open('exampleW+.txt','w+') as file:\n",
    "    file.write(\"This is the new file\\n\")\n",
    "    file.write(\"Hello to the world\\n\")\n",
    "\n",
    "# Moving cursor to the begining if you want to read the file content\n",
    "\n",
    "    file.seek(0)\n",
    "\n",
    "# Reading the file\n",
    "\n",
    "    content = file.read()\n",
    "    print(content)"
   ]
  }
 ],
 "metadata": {
  "kernelspec": {
   "display_name": "Python 3",
   "language": "python",
   "name": "python3"
  },
  "language_info": {
   "codemirror_mode": {
    "name": "ipython",
    "version": 3
   },
   "file_extension": ".py",
   "mimetype": "text/x-python",
   "name": "python",
   "nbconvert_exporter": "python",
   "pygments_lexer": "ipython3",
   "version": "3.12.0"
  }
 },
 "nbformat": 4,
 "nbformat_minor": 2
}
