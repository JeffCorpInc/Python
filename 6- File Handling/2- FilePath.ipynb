{
 "cells": [
  {
   "cell_type": "code",
   "execution_count": null,
   "metadata": {},
   "outputs": [],
   "source": [
    "## FILE PATH\n",
    "\n",
    "# 0- Creating a new Directory\n",
    "# 1- Listing File and Directories\n",
    "# 2- Joining Paths\n",
    "# 3- Examples of File and File manipulation"
   ]
  },
  {
   "cell_type": "code",
   "execution_count": 1,
   "metadata": {},
   "outputs": [
    {
     "name": "stdout",
     "output_type": "stream",
     "text": [
      "New Directory Package has been Created\n"
     ]
    }
   ],
   "source": [
    "## CREATING A NEW DIRECTORY\n",
    "\n",
    "import os\n",
    "\n",
    "new_directory = 'Package'\n",
    "os.mkdir(new_directory)\n",
    "print(f\"New Directory {new_directory} has been Created\")"
   ]
  },
  {
   "cell_type": "code",
   "execution_count": null,
   "metadata": {},
   "outputs": [
    {
     "name": "stdout",
     "output_type": "stream",
     "text": [
      "['1- FileOperation.ipynb', '2- FilePath.ipynb', 'example.bin', 'example.txt', 'exampleW+.txt', 'Package']\n"
     ]
    }
   ],
   "source": [
    "## LISTING FILE AND DIRECTORIES\n",
    "\n",
    "items = os.listdir('.')                     # \".\" is used to bring all the list of files in the working directory\n",
    "print(items)"
   ]
  },
  {
   "cell_type": "code",
   "execution_count": 3,
   "metadata": {},
   "outputs": [
    {
     "name": "stdout",
     "output_type": "stream",
     "text": [
      "Files\\documents.txt\n"
     ]
    }
   ],
   "source": [
    "## JOINING PATHS\n",
    "\n",
    "dir_folder = 'Files'\n",
    "file_name = 'documents.txt'\n",
    "\n",
    "joining_path = os.path.join(dir_folder,file_name)\n",
    "print(joining_path) "
   ]
  },
  {
   "cell_type": "code",
   "execution_count": 5,
   "metadata": {},
   "outputs": [
    {
     "name": "stdout",
     "output_type": "stream",
     "text": [
      "c:\\Users\\medhi_jaff\\Documents\\GitHub\\Getting Started with Python\\Python\\6- File Handling\\Files\\documents.txt\n"
     ]
    }
   ],
   "source": [
    "# Getting full Path\n",
    "\n",
    "full_path = os.path.join(os.getcwd(),dir_folder,file_name)\n",
    "print(full_path) "
   ]
  },
  {
   "cell_type": "code",
   "execution_count": 8,
   "metadata": {},
   "outputs": [
    {
     "name": "stdout",
     "output_type": "stream",
     "text": [
      "The Path 'example1.txt' does not exists\n"
     ]
    }
   ],
   "source": [
    "# Checking if the file exists or not\n",
    "\n",
    "path = 'example1.txt'\n",
    "if os.path.exists(path):\n",
    "    print(f\"The Path '{path}' exists\")\n",
    "else:\n",
    "    print(f\"The Path '{path}' does not exists\")"
   ]
  },
  {
   "cell_type": "code",
   "execution_count": 9,
   "metadata": {},
   "outputs": [
    {
     "name": "stdout",
     "output_type": "stream",
     "text": [
      "The path 'example.txt' is a file'\n"
     ]
    }
   ],
   "source": [
    "# Checking if the path is file or directory\n",
    "\n",
    "path = 'example.txt'\n",
    "\n",
    "if os.path.isfile(path):\n",
    "    print(f\"The path '{path}' is a file'\")\n",
    "elif os.path.isdir(path):\n",
    "    print(f\"The path '{path}' is a directory\")\n",
    "else:\n",
    "    print(f\"The file '{path}' is neither the file nor the directory\")"
   ]
  },
  {
   "cell_type": "code",
   "execution_count": 10,
   "metadata": {},
   "outputs": [
    {
     "name": "stdout",
     "output_type": "stream",
     "text": [
      "c:\\Users\\medhi_jaff\\Documents\\GitHub\\Getting Started with Python\\Python\\6- File Handling\\example.txt\n"
     ]
    }
   ],
   "source": [
    "# Getting the absolute path\n",
    "\n",
    "relative_path = 'example.txt'\n",
    "absolute_path = os.path.abspath(relative_path)\n",
    "print(absolute_path)"
   ]
  }
 ],
 "metadata": {
  "kernelspec": {
   "display_name": "Python 3",
   "language": "python",
   "name": "python3"
  },
  "language_info": {
   "codemirror_mode": {
    "name": "ipython",
    "version": 3
   },
   "file_extension": ".py",
   "mimetype": "text/x-python",
   "name": "python",
   "nbconvert_exporter": "python",
   "pygments_lexer": "ipython3",
   "version": "3.12.0"
  }
 },
 "nbformat": 4,
 "nbformat_minor": 2
}
