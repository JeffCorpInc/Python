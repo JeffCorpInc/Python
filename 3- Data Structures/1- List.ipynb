{
 "cells": [
  {
   "cell_type": "code",
   "execution_count": 1,
   "metadata": {},
   "outputs": [],
   "source": [
    "## LIST\n",
    "\n",
    "# 0- List\n",
    "# 1- Accessing List Items \n",
    "# 2- List Methods\n",
    "# 3- Slicing List\n",
    "# 4- Iterating\n",
    "# 5- List Comprehension (Detailed)"
   ]
  },
  {
   "cell_type": "code",
   "execution_count": null,
   "metadata": {},
   "outputs": [
    {
     "name": "stdout",
     "output_type": "stream",
     "text": [
      "<class 'list'>\n"
     ]
    }
   ],
   "source": [
    "## LIST = is a collection of elements of different data types. They are mutable(They can be update, delete, insert etc)\n",
    "\n",
    "lst=[]\n",
    "print(type(lst))            # type is used to define which type of variable it is.  "
   ]
  },
  {
   "cell_type": "code",
   "execution_count": 8,
   "metadata": {},
   "outputs": [
    {
     "name": "stdout",
     "output_type": "stream",
     "text": [
      "['Mehdi', 7, 2.2, True]\n"
     ]
    }
   ],
   "source": [
    "mixed_lst=[\"Mehdi\",7,2.2,True]\n",
    "print(mixed_lst)"
   ]
  },
  {
   "cell_type": "code",
   "execution_count": 15,
   "metadata": {},
   "outputs": [
    {
     "name": "stdout",
     "output_type": "stream",
     "text": [
      "BMW\n",
      "Mercedes\n",
      "['Lambo', 'BMW', 'Mercedes']\n",
      "['Ford', 'Lambo']\n"
     ]
    }
   ],
   "source": [
    "## ACCESSING LIST ITEMS\n",
    "\n",
    "car_lst = [\"Ferrari\",\"Ford\",\"Lambo\",\"BMW\",\"Mercedes\"]\n",
    "\n",
    "print(car_lst[3])\n",
    "print(car_lst[-1])      # Using - sign will lead you to access from the end\n",
    "\n",
    "print(car_lst[2:])      # Using : sign will lead you to retrieve items till giving index i:e [1:3] or [2:]\n",
    "\n",
    "print(car_lst[1:3])\n",
    "\n",
    "\n"
   ]
  },
  {
   "cell_type": "code",
   "execution_count": 17,
   "metadata": {},
   "outputs": [
    {
     "name": "stdout",
     "output_type": "stream",
     "text": [
      "Pagani\n"
     ]
    }
   ],
   "source": [
    "## MODIFYING THE LIST ITEMS\n",
    "\n",
    "car_lst[2] = \"Pagani\"\n",
    "print(car_lst[2])"
   ]
  },
  {
   "cell_type": "code",
   "execution_count": 19,
   "metadata": {},
   "outputs": [
    {
     "name": "stdout",
     "output_type": "stream",
     "text": [
      "['Ferrari', 'Ford', 'Pagani', 'BMW', 'Mercedes', 'Lamborghini', 'Lamborghini']\n"
     ]
    }
   ],
   "source": [
    "## LIST METHODS\n",
    "\n",
    "car_lst.append(\"Lamborghini\")       # Append will add item at the end\n",
    "print(car_lst)"
   ]
  },
  {
   "cell_type": "code",
   "execution_count": 20,
   "metadata": {},
   "outputs": [
    {
     "name": "stdout",
     "output_type": "stream",
     "text": [
      "['LEXUS', 'Ferrari', 'Ford', 'Pagani', 'BMW', 'Mercedes', 'Lamborghini', 'Lamborghini']\n"
     ]
    }
   ],
   "source": [
    "car_lst.insert(0,\"LEXUS\")           # Insert with index number, will add item at certain index\n",
    "print(car_lst)"
   ]
  },
  {
   "cell_type": "code",
   "execution_count": 21,
   "metadata": {},
   "outputs": [
    {
     "name": "stdout",
     "output_type": "stream",
     "text": [
      "['LEXUS', 'Ferrari', 'Ford', 'Pagani', 'BMW', 'Mercedes', 'Lamborghini']\n"
     ]
    }
   ],
   "source": [
    "car_lst.remove(\"Lamborghini\")       # Remove will delete the first occurance item\n",
    "print(car_lst)"
   ]
  },
  {
   "cell_type": "code",
   "execution_count": 22,
   "metadata": {},
   "outputs": [
    {
     "name": "stdout",
     "output_type": "stream",
     "text": [
      "Lamborghini\n",
      "['LEXUS', 'Ferrari', 'Ford', 'Pagani', 'BMW', 'Mercedes']\n"
     ]
    }
   ],
   "source": [
    "popped_item = car_lst.pop()         # Pop will remove the last item\n",
    "print(popped_item)\n",
    "print(car_lst)\n"
   ]
  },
  {
   "cell_type": "code",
   "execution_count": 24,
   "metadata": {},
   "outputs": [
    {
     "name": "stdout",
     "output_type": "stream",
     "text": [
      "2\n"
     ]
    }
   ],
   "source": [
    "index = car_lst.index(\"Ford\")       # It will tell you the index number of the item\n",
    "print(index)"
   ]
  },
  {
   "cell_type": "code",
   "execution_count": 37,
   "metadata": {},
   "outputs": [
    {
     "name": "stdout",
     "output_type": "stream",
     "text": [
      "2\n",
      "['Ferrari', 'Ford', 'Lambo', 'BMW', 'BMW', 'Mercedes']\n"
     ]
    }
   ],
   "source": [
    "car_lst = [\"Ferrari\",\"Ford\",\"Lambo\",\"BMW\",\"Mercedes\"]\n",
    "\n",
    "car_lst.insert(3,\"BMW\")\n",
    "print(car_lst.count(\"BMW\"))         # It will count the items present\n",
    "\n",
    "print(car_lst)"
   ]
  },
  {
   "cell_type": "code",
   "execution_count": 39,
   "metadata": {},
   "outputs": [
    {
     "data": {
      "text/plain": [
       "['BMW', 'BMW', 'Ferrari', 'Ford', 'Lambo', 'Mercedes']"
      ]
     },
     "execution_count": 39,
     "metadata": {},
     "output_type": "execute_result"
    }
   ],
   "source": [
    "car_lst.sort()                      # It will sort in ascending order\n",
    "car_lst"
   ]
  },
  {
   "cell_type": "code",
   "execution_count": 40,
   "metadata": {},
   "outputs": [
    {
     "data": {
      "text/plain": [
       "['Mercedes', 'Lambo', 'Ford', 'Ferrari', 'BMW', 'BMW']"
      ]
     },
     "execution_count": 40,
     "metadata": {},
     "output_type": "execute_result"
    }
   ],
   "source": [
    "car_lst.reverse()                   # It will reverse, end items will discplay in front\n",
    "car_lst"
   ]
  },
  {
   "cell_type": "code",
   "execution_count": 41,
   "metadata": {},
   "outputs": [
    {
     "data": {
      "text/plain": [
       "[]"
      ]
     },
     "execution_count": 41,
     "metadata": {},
     "output_type": "execute_result"
    }
   ],
   "source": [
    "car_lst.clear()                      # It will remove all the items from the list\n",
    "car_lst"
   ]
  },
  {
   "cell_type": "code",
   "execution_count": 44,
   "metadata": {},
   "outputs": [
    {
     "name": "stdout",
     "output_type": "stream",
     "text": [
      "[3, 4, 5]\n",
      "[6, 7, 8]\n",
      "[1, 2, 3, 4, 5]\n",
      "[6, 7, 8, 9, 10]\n",
      "[1, 3, 5, 7, 9]\n",
      "[10, 9, 8, 7, 6, 5, 4, 3, 2, 1]\n",
      "[1, 4, 7, 10]\n",
      "[10, 8, 6, 4, 2]\n"
     ]
    }
   ],
   "source": [
    "## SLICING LIST\n",
    "\n",
    "numbs = [1,2,3,4,5,6,7,8,9,10]\n",
    "\n",
    "print(numbs[2:5])               # from index 2 till 4 \n",
    "print(numbs[5:8])               # from index 5 till 7\n",
    "print(numbs[:5])                # from index 0 till 4\n",
    "print(numbs[5:])                # from index 5 till end\n",
    "print(numbs[::2])               # all the items with step 2\n",
    "print(numbs[::-1])              # all the items from the end\n",
    "print(numbs[::3])               # all the items with step 3\n",
    "print(numbs[::-2])              # all the items from the end with step 2\n"
   ]
  },
  {
   "cell_type": "code",
   "execution_count": 48,
   "metadata": {},
   "outputs": [
    {
     "name": "stdout",
     "output_type": "stream",
     "text": [
      "1\n",
      "2\n",
      "3\n",
      "4\n",
      "5\n",
      "6\n",
      "7\n",
      "8\n",
      "9\n",
      "10\n"
     ]
    }
   ],
   "source": [
    "## ITERATING\n",
    "\n",
    "#  Over the list\n",
    "\n",
    "for number in numbs:\n",
    "    print(number)"
   ]
  },
  {
   "cell_type": "code",
   "execution_count": 50,
   "metadata": {},
   "outputs": [
    {
     "name": "stdout",
     "output_type": "stream",
     "text": [
      "0 1\n",
      "1 2\n",
      "2 3\n",
      "3 4\n",
      "4 5\n",
      "5 6\n",
      "6 7\n",
      "7 8\n",
      "8 9\n",
      "9 10\n"
     ]
    }
   ],
   "source": [
    "# List with index numbers\n",
    "\n",
    "for index,number in enumerate(numbs):       # enumerate is a build-in function used to iterate with the index value and list\n",
    "    print(index,number)"
   ]
  },
  {
   "cell_type": "code",
   "execution_count": 62,
   "metadata": {},
   "outputs": [],
   "source": [
    "## LIST COMPREHENSION\n",
    "\n",
    "# Basic Syntax                    [expression for item in iterable]\n",
    "# With Conditions                 [expression for item in iterable if condition]\n",
    "# Nested List Comprehension       [expression for item1 in iterable1 for item2 in iterable2]"
   ]
  },
  {
   "cell_type": "code",
   "execution_count": 64,
   "metadata": {},
   "outputs": [
    {
     "name": "stdout",
     "output_type": "stream",
     "text": [
      "[0, 1, 8, 27, 64, 125, 216, 343, 512, 729]\n"
     ]
    }
   ],
   "source": [
    "# Basic Syntax\n",
    "square_numb = [n**3 for n in range(10)]\n",
    "print(square_numb)"
   ]
  },
  {
   "cell_type": "code",
   "execution_count": 66,
   "metadata": {},
   "outputs": [
    {
     "name": "stdout",
     "output_type": "stream",
     "text": [
      "[0, 2, 4, 6, 8, 10, 12, 14, 16, 18]\n"
     ]
    }
   ],
   "source": [
    "# With Conditions\n",
    "even_numb = [ n for n in range(20) if n%2==0]\n",
    "print(even_numb)"
   ]
  },
  {
   "cell_type": "code",
   "execution_count": 69,
   "metadata": {},
   "outputs": [
    {
     "name": "stdout",
     "output_type": "stream",
     "text": [
      "[[1, 'a'], [1, 'b'], [2, 'a'], [2, 'b'], [3, 'a'], [3, 'b']]\n"
     ]
    }
   ],
   "source": [
    "# Nested List Comprehension\n",
    "lst1 = [1,2,3]\n",
    "lst2 = ['a','b']\n",
    "\n",
    "pair = [[i,j] for i in lst1 for j in lst2]          # Tuples which is pairing [i,j]\n",
    "\n",
    "print(pair)"
   ]
  },
  {
   "cell_type": "code",
   "execution_count": 61,
   "metadata": {},
   "outputs": [
    {
     "name": "stdout",
     "output_type": "stream",
     "text": [
      "[0, 1, 4, 9, 16, 25, 36, 49, 64, 81]\n"
     ]
    }
   ],
   "source": [
    "lst = []\n",
    "for x in range(10):\n",
    "    lst.append(x**2)            # adding the (x**2) in list\n",
    "\n",
    "print(lst)"
   ]
  },
  {
   "cell_type": "code",
   "execution_count": 59,
   "metadata": {},
   "outputs": [
    {
     "data": {
      "text/plain": [
       "[0, 1, 4, 9, 16, 25, 36, 49, 64, 81]"
      ]
     },
     "execution_count": 59,
     "metadata": {},
     "output_type": "execute_result"
    }
   ],
   "source": [
    "## list comprehension is actually a short way to perform multiple functions within the list\n",
    "\n",
    "[ x**2 for x in range(10) ]     # 1st Func: hame kis type ka operation perform krna 2nd func: iteration"
   ]
  },
  {
   "cell_type": "code",
   "execution_count": 71,
   "metadata": {},
   "outputs": [
    {
     "name": "stdout",
     "output_type": "stream",
     "text": [
      "[4, 5, 11]\n"
     ]
    }
   ],
   "source": [
    "## List comprehension with functions\n",
    "\n",
    "words = [\"Cars\", \"Lambo\", \"Switzerland\"]\n",
    "\n",
    "length = [len(word) for word in words]\n",
    "print(length)"
   ]
  }
 ],
 "metadata": {
  "kernelspec": {
   "display_name": "Python 3",
   "language": "python",
   "name": "python3"
  },
  "language_info": {
   "codemirror_mode": {
    "name": "ipython",
    "version": 3
   },
   "file_extension": ".py",
   "mimetype": "text/x-python",
   "name": "python",
   "nbconvert_exporter": "python",
   "pygments_lexer": "ipython3",
   "version": "3.12.0"
  }
 },
 "nbformat": 4,
 "nbformat_minor": 2
}
