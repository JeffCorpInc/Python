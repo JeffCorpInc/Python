{
 "cells": [
  {
   "cell_type": "code",
   "execution_count": null,
   "metadata": {},
   "outputs": [],
   "source": [
    "## DICTIONARIES\n",
    "\n",
    "# 1- Creating Dictionaries\n",
    "# 2- Accessing Dictionaries\n",
    "# 3- Modifying Dictionaries Elements\n",
    "# 4- Dictionaries Methods\n",
    "# 5- Shallow Copy\n",
    "# 6- Iterating over Dictionaries\n",
    "# 7- Nested Dictionaries\n",
    "# 8- Iterating over Nested Dictionaries\n",
    "# 9- Dictionaries Comprehensions\n",
    "# 7- Nested Dictionaries\n",
    "# 8- Iterating over Nested Dictionaries\n",
    "# 9- Dictionaries Comprehensions"
   ]
  },
  {
   "cell_type": "code",
   "execution_count": null,
   "metadata": {},
   "outputs": [],
   "source": [
    "## DICTIONARIES - Unordered collection of items. They store data in key-value pairs. Key must be unique and immutabel\n",
    "#                 e.g Strings, Tuples, Numbers etc while values can be of any type."
   ]
  },
  {
   "cell_type": "code",
   "execution_count": 1,
   "metadata": {},
   "outputs": [
    {
     "name": "stdout",
     "output_type": "stream",
     "text": [
      "<class 'dict'>\n"
     ]
    }
   ],
   "source": [
    "# CREATING DICTIONARIES\n",
    "\n",
    "emp_dict = {}\n",
    "print(type(emp_dict))"
   ]
  },
  {
   "cell_type": "code",
   "execution_count": 2,
   "metadata": {},
   "outputs": [
    {
     "name": "stdout",
     "output_type": "stream",
     "text": [
      "{}\n"
     ]
    }
   ],
   "source": [
    "emp_dict = dict()\n",
    "print(emp_dict)"
   ]
  },
  {
   "cell_type": "code",
   "execution_count": 3,
   "metadata": {},
   "outputs": [
    {
     "name": "stdout",
     "output_type": "stream",
     "text": [
      "{'Name': 'MEHDI', 'Age': 21, 'Grade': 24}\n"
     ]
    }
   ],
   "source": [
    "students = {\"Name\":\"MEHDI\",\"Age\":21,\"Grade\":24}\n",
    "print(students)"
   ]
  },
  {
   "cell_type": "code",
   "execution_count": 6,
   "metadata": {},
   "outputs": [
    {
     "name": "stdout",
     "output_type": "stream",
     "text": [
      "{'Age': 24, 'Name': 21}\n"
     ]
    }
   ],
   "source": [
    "## Uniqueness in Key\n",
    "\n",
    "students = {\"Age\":\"MEHDI\",\"Name\":21,\"Age\":24}           # Key should be unique otherwise it will replace with the recent value\n",
    "print(students)"
   ]
  },
  {
   "cell_type": "code",
   "execution_count": 8,
   "metadata": {},
   "outputs": [
    {
     "name": "stdout",
     "output_type": "stream",
     "text": [
      "{'Name': 'MEHDI', 'Age': 21, 'Grade': 'A'}\n",
      "A\n"
     ]
    }
   ],
   "source": [
    "## ACCESSING DICTIONARY ELEMENTS\n",
    "\n",
    "students = {\"Name\":\"MEHDI\",\"Age\":21,\"Grade\":\"A\"}\n",
    "print(students)\n",
    "\n",
    "print(students['Grade'])"
   ]
  },
  {
   "cell_type": "code",
   "execution_count": 11,
   "metadata": {},
   "outputs": [
    {
     "name": "stdout",
     "output_type": "stream",
     "text": [
      "A\n",
      "None\n",
      "Not Available\n"
     ]
    }
   ],
   "source": [
    "# Built-in Get method\n",
    "\n",
    "print(students.get('Grade'))\n",
    "print(students.get('Number'))\n",
    "print(students.get('Number','Not Available'))\n",
    "\n"
   ]
  },
  {
   "cell_type": "code",
   "execution_count": 12,
   "metadata": {},
   "outputs": [
    {
     "name": "stdout",
     "output_type": "stream",
     "text": [
      "{'Name': 'MEHDI', 'Age': 21, 'Grade': 'A'}\n"
     ]
    }
   ],
   "source": [
    "## MODIFYING DICTIONARY ELEMENTS - Dict. are mutable but key should be unique\n",
    "\n",
    "print(students)"
   ]
  },
  {
   "cell_type": "code",
   "execution_count": null,
   "metadata": {},
   "outputs": [
    {
     "name": "stdout",
     "output_type": "stream",
     "text": [
      "{'Name': 'MEHDI', 'Age': 22, 'Grade': 'A', 'Location': 'Pakistan'}\n",
      "{'Name': 'MEHDI', 'Age': 22, 'Location': 'Pakistan'}\n"
     ]
    }
   ],
   "source": [
    "students = {\"Name\":\"MEHDI\",\"Age\":21,\"Grade\":\"A\"}\n",
    "\n",
    "students['Age']=22                              # Update\n",
    "\n",
    "students[\"Location\"]=\"Pakistan\"                 # adding key\n",
    "print(students)\n",
    "\n",
    "del students[\"Grade\"]                           # Deleting\n",
    "print(students)"
   ]
  },
  {
   "cell_type": "code",
   "execution_count": null,
   "metadata": {},
   "outputs": [
    {
     "name": "stdout",
     "output_type": "stream",
     "text": [
      "dict_keys(['Name', 'Age', 'Location'])\n",
      "dict_values(['MEHDI', 22, 'Pakistan'])\n",
      "dict_items([('Name', 'MEHDI'), ('Age', 22), ('Location', 'Pakistan')])\n"
     ]
    }
   ],
   "source": [
    "## DICIONARY METHODS\n",
    "\n",
    "keys = students.keys()              # get all the keys\n",
    "print(keys)\n",
    "\n",
    "values = students.values()          # get all the values of the keys\n",
    "print(values)\n",
    "\n",
    "items = students.items()\n",
    "print(items)                        # get all the key value pairs in the form of list of tuples"
   ]
  },
  {
   "cell_type": "code",
   "execution_count": 25,
   "metadata": {},
   "outputs": [
    {
     "name": "stdout",
     "output_type": "stream",
     "text": [
      "{'Name': 'MEHDI', 'Age': 22, 'Location': 'Pakistan'}\n",
      "{'Name': 'MEHDI', 'Age': 22, 'Location': 'Pakistan'}\n"
     ]
    }
   ],
   "source": [
    "## SHALLOW COPY\n",
    "\n",
    "students\n",
    "std_copy = students\n",
    "print(students)\n",
    "print(std_copy)\n"
   ]
  },
  {
   "cell_type": "code",
   "execution_count": 38,
   "metadata": {},
   "outputs": [
    {
     "name": "stdout",
     "output_type": "stream",
     "text": [
      "{'Name': 'Jaffari', 'Age': 22, 'Location': 'Pakistan'}\n",
      "{'Name': 'Jaffari', 'Age': 22, 'Location': 'Pakistan'}\n"
     ]
    }
   ],
   "source": [
    "students[\"Name\"]='Jaffari'\n",
    "print(students)\n",
    "print(std_copy)\n",
    "\n",
    "## Here I want to make a copy of dictionary, but making another var and updating previous var is not solving it."
   ]
  },
  {
   "cell_type": "code",
   "execution_count": 40,
   "metadata": {},
   "outputs": [
    {
     "name": "stdout",
     "output_type": "stream",
     "text": [
      "{'Name': 'Jaffari', 'Age': 22, 'Location': 'Pakistan'}\n",
      "{'Name': 'Jaffari', 'Age': 22, 'Location': 'Pakistan'}\n"
     ]
    }
   ],
   "source": [
    "std_copy1 = students.copy()\n",
    "print(students)\n",
    "print(std_copy1)"
   ]
  },
  {
   "cell_type": "code",
   "execution_count": 41,
   "metadata": {},
   "outputs": [
    {
     "name": "stdout",
     "output_type": "stream",
     "text": [
      "{'Name': 'Jaffari', 'Age': 22, 'Location': 'Pakistan'}\n",
      "{'Name': 'Muhammad', 'Age': 22, 'Location': 'Pakistan'}\n"
     ]
    }
   ],
   "source": [
    "std_copy1[\"Name\"]=\"Muhammad\"\n",
    "print(students)\n",
    "print(std_copy1)"
   ]
  },
  {
   "cell_type": "code",
   "execution_count": 45,
   "metadata": {},
   "outputs": [
    {
     "name": "stdout",
     "output_type": "stream",
     "text": [
      "Name\n",
      "Age\n",
      "Location\n"
     ]
    }
   ],
   "source": [
    "## ITERATING OVER DICTIONARIES - You can loop over dict.\n",
    "\n",
    "# Iterating over keys\n",
    "\n",
    "for keys in students.keys():\n",
    "    print(keys)\n"
   ]
  },
  {
   "cell_type": "code",
   "execution_count": 46,
   "metadata": {},
   "outputs": [
    {
     "name": "stdout",
     "output_type": "stream",
     "text": [
      "Jaffari\n",
      "22\n",
      "Pakistan\n"
     ]
    }
   ],
   "source": [
    "for values in students.values():\n",
    "    print(values)"
   ]
  },
  {
   "cell_type": "code",
   "execution_count": null,
   "metadata": {},
   "outputs": [
    {
     "name": "stdout",
     "output_type": "stream",
     "text": [
      "Name: Jaffari\n",
      "Age: 22\n",
      "Location: Pakistan\n"
     ]
    }
   ],
   "source": [
    "for keys,values in students.items():\n",
    "    print(f\"{keys}: {values}\")                  # f = String formatting"
   ]
  },
  {
   "cell_type": "code",
   "execution_count": null,
   "metadata": {},
   "outputs": [
    {
     "name": "stdout",
     "output_type": "stream",
     "text": [
      "{'Students': {'Name': 'Mehdi', 'Age': 21, 'Grade': 'A'}, 'Students1': {'Name': 'Hussain', 'Age': 25, 'Grade': 'B'}}\n"
     ]
    }
   ],
   "source": [
    "## NESTED DICTIONARIES\n",
    "\n",
    "students = {\n",
    "\n",
    "    \"Students\":{\"Name\": \"Mehdi\", \"Age\": 21, \"Grade\":\"A\"},\n",
    "    \"Students1\":{\"Name\": \"Hussain\", \"Age\": 25, \"Grade\":\"B\"}\n",
    "}\n",
    "\n",
    "print(students)"
   ]
  },
  {
   "cell_type": "code",
   "execution_count": 54,
   "metadata": {},
   "outputs": [
    {
     "name": "stdout",
     "output_type": "stream",
     "text": [
      "Mehdi\n",
      "Hussain\n"
     ]
    }
   ],
   "source": [
    "## ACCESSING NESTED DICTIONARIES\n",
    "\n",
    "print(students[\"Students\"][\"Name\"])\n",
    "print(students[\"Students1\"][\"Name\"])\n"
   ]
  },
  {
   "cell_type": "code",
   "execution_count": 64,
   "metadata": {},
   "outputs": [
    {
     "name": "stdout",
     "output_type": "stream",
     "text": [
      "Students: {'Name': 'Mehdi', 'Age': 21, 'Grade': 'A'}\n",
      "Name: Mehdi\n",
      "Age: 21\n",
      "Grade: A\n",
      "Students1: {'Name': 'Hussain', 'Age': 25, 'Grade': 'B'}\n",
      "Name: Hussain\n",
      "Age: 25\n",
      "Grade: B\n"
     ]
    }
   ],
   "source": [
    "## ITERATING OVER NESTED DICTIONARIES\n",
    "\n",
    "students = {\n",
    "    \"Students\": {\"Name\": \"Mehdi\", \"Age\": 21, \"Grade\": \"A\"},\n",
    "    \"Students1\": {\"Name\": \"Hussain\", \"Age\": 25, \"Grade\": \"B\"}\n",
    "}\n",
    "\n",
    "for std_id, std_info in students.items():\n",
    "    print(f\"{std_id}: {std_info}\")\n",
    "    for key, value in std_info.items():\n",
    "        print(f\"{key}: {value}\")"
   ]
  },
  {
   "cell_type": "code",
   "execution_count": null,
   "metadata": {},
   "outputs": [
    {
     "name": "stdout",
     "output_type": "stream",
     "text": [
      "0\n",
      "1\n",
      "4\n",
      "9\n",
      "16\n"
     ]
    }
   ],
   "source": [
    "## DICTIONARY COMPREHENSIONS \n",
    "\n",
    "# Using for loop\n",
    "\n",
    "sqr = range(5)\n",
    "\n",
    "for pwr in sqr:\n",
    "    print(pwr**2)"
   ]
  },
  {
   "cell_type": "code",
   "execution_count": null,
   "metadata": {},
   "outputs": [
    {
     "name": "stdout",
     "output_type": "stream",
     "text": [
      "{0: 0, 1: 1, 2: 4, 3: 9, 4: 16}\n"
     ]
    }
   ],
   "source": [
    "# Using Comprehension\n",
    "\n",
    "sqr = { x:x**2 for x in range(5)}\n",
    "print(sqr)"
   ]
  },
  {
   "cell_type": "code",
   "execution_count": null,
   "metadata": {},
   "outputs": [
    {
     "name": "stdout",
     "output_type": "stream",
     "text": [
      "{0: 0, 2: 4, 4: 16, 6: 36, 8: 64}\n"
     ]
    }
   ],
   "source": [
    "# Using conditional Comprehension\n",
    "\n",
    "evens = { x:x**2 for x in range(10) if x%2==0 }\n",
    "print(evens)"
   ]
  },
  {
   "cell_type": "code",
   "execution_count": 69,
   "metadata": {},
   "outputs": [
    {
     "name": "stdout",
     "output_type": "stream",
     "text": [
      "{1: 1, 2: 2, 3: 1, 4: 3, 5: 5}\n"
     ]
    }
   ],
   "source": [
    "# Use dictionary to find the frequency of numbers present in a list\n",
    "\n",
    "lst = [1,2,2,3,4,4,4,5,5,5,5,5]\n",
    "freq = {}\n",
    "\n",
    "for number in lst:\n",
    "    if number in freq:\n",
    "        freq[number]+=1\n",
    "    else:\n",
    "        freq[number]=1\n",
    "print(freq)"
   ]
  },
  {
   "cell_type": "code",
   "execution_count": null,
   "metadata": {},
   "outputs": [],
   "source": []
  }
 ],
 "metadata": {
  "kernelspec": {
   "display_name": "Python 3",
   "language": "python",
   "name": "python3"
  },
  "language_info": {
   "codemirror_mode": {
    "name": "ipython",
    "version": 3
   },
   "file_extension": ".py",
   "mimetype": "text/x-python",
   "name": "python",
   "nbconvert_exporter": "python",
   "pygments_lexer": "ipython3",
   "version": "3.12.0"
  }
 },
 "nbformat": 4,
 "nbformat_minor": 2
}
