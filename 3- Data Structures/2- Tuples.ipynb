{
 "cells": [
  {
   "cell_type": "code",
   "execution_count": null,
   "metadata": {},
   "outputs": [],
   "source": [
    "## TUPLES\n",
    "\n",
    "# 0- Creating Tuples and list\n",
    "# 1- Accessing tuples \n",
    "# 2- Immutable nature of Tuples\n",
    "# 3- Tuples methods\n",
    "# 4- Packing and Unpakcing Tuples\n",
    "# 5- Nested List & Tuples"
   ]
  },
  {
   "cell_type": "code",
   "execution_count": null,
   "metadata": {},
   "outputs": [
    {
     "name": "stdout",
     "output_type": "stream",
     "text": [
      "()\n",
      "<class 'tuple'>\n"
     ]
    }
   ],
   "source": [
    "## TUPLES - Ordered collection of items that are immutable, they are similar to lists but their immutability make them different.\n",
    "\n",
    "## CREATING TUPLES AND LIST\n",
    "\n",
    "empty_tuples = ()\n",
    "print(empty_tuples)\n",
    "\n",
    "print(type(empty_tuples))"
   ]
  },
  {
   "cell_type": "code",
   "execution_count": null,
   "metadata": {},
   "outputs": [
    {
     "name": "stdout",
     "output_type": "stream",
     "text": [
      "<class 'list'>\n",
      "<class 'tuple'>\n"
     ]
    }
   ],
   "source": [
    "lst = list()                    # You can create empty list by list() function\n",
    "print(type(lst))\n",
    "\n",
    "tpl = tuple()                   # You can create empty tuple by tuple() function                 \n",
    "print(type(tpl))\n"
   ]
  },
  {
   "cell_type": "code",
   "execution_count": null,
   "metadata": {},
   "outputs": [
    {
     "data": {
      "text/plain": [
       "(1, 2, 3, 4, 5, 6, 7)"
      ]
     },
     "execution_count": 4,
     "metadata": {},
     "output_type": "execute_result"
    }
   ],
   "source": [
    "## Converting list into tuple and vice versa\n",
    "\n",
    "numb_tpl = tuple([1,2,3,4,5,6,7])\n",
    "numb_tpl                                # into tuple"
   ]
  },
  {
   "cell_type": "code",
   "execution_count": null,
   "metadata": {},
   "outputs": [
    {
     "data": {
      "text/plain": [
       "[1, 2, 3, 4, 5, 6, 7]"
      ]
     },
     "execution_count": 5,
     "metadata": {},
     "output_type": "execute_result"
    }
   ],
   "source": [
    "numb_lst = list(numb_tpl)\n",
    "numb_lst                                # into list"
   ]
  },
  {
   "cell_type": "code",
   "execution_count": 6,
   "metadata": {},
   "outputs": [
    {
     "data": {
      "text/plain": [
       "(1, 'Mehdi', True, 2.1)"
      ]
     },
     "execution_count": 6,
     "metadata": {},
     "output_type": "execute_result"
    }
   ],
   "source": [
    "mxd_tpl = (1,\"Mehdi\",True,2.1)\n",
    "mxd_tpl"
   ]
  },
  {
   "cell_type": "code",
   "execution_count": null,
   "metadata": {},
   "outputs": [
    {
     "name": "stdout",
     "output_type": "stream",
     "text": [
      "3\n",
      "(1, 2, 3)\n",
      "(7, 6, 5, 4, 3, 2, 1)\n",
      "(1, 2, 3, 4, 5, 6, 7)\n"
     ]
    }
   ],
   "source": [
    "## ACCESSING TUPLES\n",
    "\n",
    "numb_tpl = tuple([1,2,3,4,5,6,7])\n",
    "\n",
    "print(numb_tpl[2])\n",
    "print(numb_tpl[:3])\n",
    "print(numb_tpl[::-1])\n",
    "print(numb_tpl[::])"
   ]
  },
  {
   "cell_type": "code",
   "execution_count": null,
   "metadata": {},
   "outputs": [
    {
     "name": "stdout",
     "output_type": "stream",
     "text": [
      "(1, 'Mehdi', True, 2.1, 1, 2, 3, 4, 5, 6, 7)\n"
     ]
    }
   ],
   "source": [
    "## TUPLES OPERATIONS\n",
    "\n",
    "conc_tpl = mxd_tpl + numb_tpl                   # Concatenation of Tuples\n",
    "print(conc_tpl)"
   ]
  },
  {
   "cell_type": "code",
   "execution_count": 16,
   "metadata": {},
   "outputs": [
    {
     "data": {
      "text/plain": [
       "(1, 2, 3, 4, 5, 6, 7, 1, 2, 3, 4, 5, 6, 7, 1, 2, 3, 4, 5, 6, 7)"
      ]
     },
     "execution_count": 16,
     "metadata": {},
     "output_type": "execute_result"
    }
   ],
   "source": [
    "mxd_tpl * 2                                     # Appending 2 times or Repeatition\n",
    "numb_tpl * 3"
   ]
  },
  {
   "cell_type": "code",
   "execution_count": null,
   "metadata": {},
   "outputs": [
    {
     "name": "stdout",
     "output_type": "stream",
     "text": [
      "[1, 2, 3, 4, 5]\n",
      "[1, 2, 3, 'Mehdi', 5]\n"
     ]
    }
   ],
   "source": [
    "## IMMUTABLE NATURE OF TUPLES - Immutable means once elements get assigned they cannot be changed\n",
    "\n",
    "lst = [1,2,3,4,5]\n",
    "print(lst)\n",
    "\n",
    "lst[3] = 'Mehdi'\n",
    "print(lst)                      # List items can be changed or replaced\n",
    "\n"
   ]
  },
  {
   "cell_type": "code",
   "execution_count": null,
   "metadata": {},
   "outputs": [
    {
     "ename": "TypeError",
     "evalue": "'tuple' object does not support item assignment",
     "output_type": "error",
     "traceback": [
      "\u001b[1;31m---------------------------------------------------------------------------\u001b[0m",
      "\u001b[1;31mTypeError\u001b[0m                                 Traceback (most recent call last)",
      "Cell \u001b[1;32mIn[18], line 1\u001b[0m\n\u001b[1;32m----> 1\u001b[0m \u001b[43mmxd_tpl\u001b[49m\u001b[43m[\u001b[49m\u001b[38;5;241;43m1\u001b[39;49m\u001b[43m]\u001b[49m \u001b[38;5;241m=\u001b[39m \u001b[38;5;124m'\u001b[39m\u001b[38;5;124mJaffari\u001b[39m\u001b[38;5;124m'\u001b[39m\n\u001b[0;32m      2\u001b[0m mxd_tpl\n",
      "\u001b[1;31mTypeError\u001b[0m: 'tuple' object does not support item assignment"
     ]
    }
   ],
   "source": [
    "mxd_tpl[1] = 'Jaffari'          # Items cannot be changed\n",
    "mxd_tpl"
   ]
  },
  {
   "cell_type": "code",
   "execution_count": 31,
   "metadata": {},
   "outputs": [
    {
     "name": "stdout",
     "output_type": "stream",
     "text": [
      "3\n",
      "3\n"
     ]
    }
   ],
   "source": [
    "## TUPLES METHODS\n",
    "\n",
    "numb_tpl = tuple([1,1,1,2,3,4,5,6,7])\n",
    "\n",
    "print(numb_tpl.count(1))                # 1 ko count kar rha he ke kitne available hein tuple me\n",
    "print(numb_tpl.index(2))                # 2 Konse index pr he ye bataraha he index function"
   ]
  },
  {
   "cell_type": "code",
   "execution_count": null,
   "metadata": {},
   "outputs": [
    {
     "name": "stdout",
     "output_type": "stream",
     "text": [
      "(1, 'Mehdi', True, 2.2)\n"
     ]
    }
   ],
   "source": [
    "## PACKING UNPACKING TUPLES\n",
    "\n",
    "packed_tpl = 1,'Mehdi',True,2.2             # It will pack the tuple automatically\n",
    "print(packed_tpl)"
   ]
  },
  {
   "cell_type": "code",
   "execution_count": null,
   "metadata": {},
   "outputs": [
    {
     "name": "stdout",
     "output_type": "stream",
     "text": [
      "1 Mehdi True 2.2\n"
     ]
    }
   ],
   "source": [
    "a,b,c,d = packed_tpl                        # Unpacking the tuples\n",
    "print(a,b,c,d)"
   ]
  },
  {
   "cell_type": "code",
   "execution_count": null,
   "metadata": {},
   "outputs": [
    {
     "name": "stdout",
     "output_type": "stream",
     "text": [
      "1 [1, 1, 2, 3, 4, 5, 6] 7\n"
     ]
    }
   ],
   "source": [
    "numb_tpl\n",
    "first,*middle,last = numb_tpl               # Unpacking with star *\n",
    "\n",
    "print(first,middle,last)"
   ]
  },
  {
   "cell_type": "code",
   "execution_count": null,
   "metadata": {},
   "outputs": [
    {
     "name": "stdout",
     "output_type": "stream",
     "text": [
      "[1, 2, 3]\n",
      "4\n",
      "Mehdi\n",
      "2.3\n"
     ]
    }
   ],
   "source": [
    "## NESTED TUPLES & LIST\n",
    "\n",
    "# Nested List\n",
    "\n",
    "lst = [[1,2,3],[4,5,6],['Mehdi',True,2.3]]\n",
    "print(lst[0])                                      # Accessing List Index item\n",
    "print(lst[1][0])\n",
    "print(lst[2][0])\n",
    "\n",
    "lst = [[1,2,3],[4,5,6],('Mehdi',True,2.3)]         # You can access tuple (tuple's items) within list items\n",
    "print(lst[2][2])\n"
   ]
  },
  {
   "cell_type": "code",
   "execution_count": 46,
   "metadata": {},
   "outputs": [
    {
     "name": "stdout",
     "output_type": "stream",
     "text": [
      "Mehdi Jaffari\n"
     ]
    }
   ],
   "source": [
    "# Nested tuples\n",
    "\n",
    "tpl = (('Mehdi',2,3,4,5),(1,True,'Jaffari'))      \n",
    "print( tpl[0][0] + ' ' +tpl[1][2] )"
   ]
  },
  {
   "cell_type": "code",
   "execution_count": 51,
   "metadata": {},
   "outputs": [
    {
     "name": "stdout",
     "output_type": "stream",
     "text": [
      "Mehdi 2 3 4 5 \n",
      "1 True Jaffari \n"
     ]
    }
   ],
   "source": [
    "# Iterating over nested tuples\n",
    "\n",
    "for ntpl in tpl:\n",
    "    for itm in ntpl:\n",
    "        print(itm,end=' ')\n",
    "    print()"
   ]
  }
 ],
 "metadata": {
  "kernelspec": {
   "display_name": "Python 3",
   "language": "python",
   "name": "python3"
  },
  "language_info": {
   "codemirror_mode": {
    "name": "ipython",
    "version": 3
   },
   "file_extension": ".py",
   "mimetype": "text/x-python",
   "name": "python",
   "nbconvert_exporter": "python",
   "pygments_lexer": "ipython3",
   "version": "3.12.0"
  }
 },
 "nbformat": 4,
 "nbformat_minor": 2
}
