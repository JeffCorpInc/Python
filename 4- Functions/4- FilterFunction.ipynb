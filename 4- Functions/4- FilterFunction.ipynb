{
 "cells": [
  {
   "cell_type": "code",
   "execution_count": null,
   "metadata": {},
   "outputs": [],
   "source": [
    "## FILTER FUNCTIONS\n",
    "\n",
    "# 1- Creating filter Function\n",
    "# 2- Filter with lambda function\n",
    "# 3- Filter with lambda function & Multiple Conditions\n",
    "# 4- Filter on Dictionary"
   ]
  },
  {
   "cell_type": "code",
   "execution_count": null,
   "metadata": {},
   "outputs": [],
   "source": [
    "## FILTER FUNCTIONS - It is used to filter out the items from the list based on conditions"
   ]
  },
  {
   "cell_type": "code",
   "execution_count": null,
   "metadata": {},
   "outputs": [
    {
     "data": {
      "text/plain": [
       "[2, 4, 6, 8, 10, 12, 14]"
      ]
     },
     "execution_count": 2,
     "metadata": {},
     "output_type": "execute_result"
    }
   ],
   "source": [
    "# Creating a Filter Function\n",
    "\n",
    "def even(x):\n",
    "    if x%2==0:\n",
    "        return True\n",
    "\n",
    "lst = [1,2,3,4,5,6,7,8,9,10,11,12,13,14,15]\n",
    "\n",
    "list(filter(even,lst))\n"
   ]
  },
  {
   "cell_type": "code",
   "execution_count": 5,
   "metadata": {},
   "outputs": [
    {
     "data": {
      "text/plain": [
       "[7, 9, 11, 13, 15]"
      ]
     },
     "execution_count": 5,
     "metadata": {},
     "output_type": "execute_result"
    }
   ],
   "source": [
    "# FILTER WITH LAMBDA FUNCTIONS\n",
    "\n",
    "lst = [7,8,9,10,11,12,13,14,15]\n",
    "\n",
    "list(filter(lambda num:num%2!=0 , lst))"
   ]
  },
  {
   "cell_type": "code",
   "execution_count": 9,
   "metadata": {},
   "outputs": [
    {
     "name": "stdout",
     "output_type": "stream",
     "text": [
      "[6, 8, 10, 12, 14]\n"
     ]
    }
   ],
   "source": [
    "# FILTER WITH LAMBDA FUNCTIONS ADN MULTIPLE CONDITIONS\n",
    "\n",
    "lst = [1,2,3,4,5,6,7,8,9,10,11,12,13,14,15]\n",
    "\n",
    "condition = list(filter( lambda x:x>5 and x%2==0 , lst ))\n",
    "print(condition)"
   ]
  },
  {
   "cell_type": "code",
   "execution_count": 6,
   "metadata": {},
   "outputs": [
    {
     "data": {
      "text/plain": [
       "[{'name': 'Mehdi', 'age': 21}, {'name': 'Kashif', 'age': 23}]"
      ]
     },
     "execution_count": 6,
     "metadata": {},
     "output_type": "execute_result"
    }
   ],
   "source": [
    "# FILTER ON DICTIONARY\n",
    "\n",
    "data = [\n",
    "\n",
    "    {'name':'Mehdi','age':21},\n",
    "    {'name':'Alan','age':12},\n",
    "    {'name':'Kashif','age':23}\n",
    "]\n",
    "\n",
    "def age_check(person):\n",
    "    return person[\"age\"]>20\n",
    "\n",
    "list(filter(age_check,data))"
   ]
  }
 ],
 "metadata": {
  "kernelspec": {
   "display_name": "Python 3",
   "language": "python",
   "name": "python3"
  },
  "language_info": {
   "codemirror_mode": {
    "name": "ipython",
    "version": 3
   },
   "file_extension": ".py",
   "mimetype": "text/x-python",
   "name": "python",
   "nbconvert_exporter": "python",
   "pygments_lexer": "ipython3",
   "version": "3.12.0"
  }
 },
 "nbformat": 4,
 "nbformat_minor": 2
}
