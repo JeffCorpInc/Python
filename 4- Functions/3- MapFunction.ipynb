{
 "cells": [
  {
   "cell_type": "code",
   "execution_count": null,
   "metadata": {},
   "outputs": [],
   "source": [
    "## MAP FUNCTIONS\n",
    "\n",
    "# 1- Creating Lambda Function\n",
    "# 2- Lambda with Map Functions\n",
    "# 3- Map with multiple interation\n",
    "# 4- Conversions using map functions\n",
    "# 5- Map function with dictionaries"
   ]
  },
  {
   "cell_type": "code",
   "execution_count": 1,
   "metadata": {},
   "outputs": [
    {
     "data": {
      "text/plain": [
       "[1, 4, 9, 16, 25, 36, 49, 64, 81]"
      ]
     },
     "execution_count": 1,
     "metadata": {},
     "output_type": "execute_result"
    }
   ],
   "source": [
    "## MAP FUNCTION - Applies function to all the items in the list and return a map object\n",
    "\n",
    "# Creating Function\n",
    "\n",
    "def sqr(x):\n",
    "    return x*x\n",
    "\n",
    "# List items\n",
    "\n",
    "numbers = [1,2,3,4,5,6,7,8,9]\n",
    "\n",
    "# using map functions\n",
    "\n",
    "list(map( sqr, numbers ))"
   ]
  },
  {
   "cell_type": "code",
   "execution_count": 5,
   "metadata": {},
   "outputs": [
    {
     "data": {
      "text/plain": [
       "[1, 4, 9, 16, 25, 36, 49, 64, 81]"
      ]
     },
     "execution_count": 5,
     "metadata": {},
     "output_type": "execute_result"
    }
   ],
   "source": [
    "## LAMBDA FUNCTION WITH MAP\n",
    "\n",
    "numbers = [1,2,3,4,5,6,7,8,9]\n",
    "\n",
    "list(map(lambda x:x*x , numbers))"
   ]
  },
  {
   "cell_type": "code",
   "execution_count": null,
   "metadata": {},
   "outputs": [
    {
     "name": "stdout",
     "output_type": "stream",
     "text": [
      "[6, 8, 10]\n"
     ]
    }
   ],
   "source": [
    "## MAP WITH MULTIPLE ITERABLES\n",
    "\n",
    "numb = [1,2,3]\n",
    "numb1 = [5,6,7]\n",
    "\n",
    "add_numb = list(map( lambda x,y:x+y , numb,numb1 ))             # it is adding with same index value\n",
    "print(add_numb)"
   ]
  },
  {
   "cell_type": "code",
   "execution_count": null,
   "metadata": {},
   "outputs": [
    {
     "name": "stdout",
     "output_type": "stream",
     "text": [
      "[1, 2, 3, 4, 5]\n"
     ]
    }
   ],
   "source": [
    "## Using map to convert string into integers\n",
    "\n",
    "strings = ['1','2','3','4','5']\n",
    "\n",
    "str_into_int = list(map(int, strings ))                 # int is a in-built function to convert into integers\n",
    "print(str_into_int)"
   ]
  },
  {
   "cell_type": "code",
   "execution_count": 10,
   "metadata": {},
   "outputs": [
    {
     "name": "stdout",
     "output_type": "stream",
     "text": [
      "['APPLE', 'BANANA']\n"
     ]
    }
   ],
   "source": [
    "## Using map to convert string into Upper Case\n",
    "\n",
    "words = ['apple','banana']\n",
    "\n",
    "upper_case = list(map(str.upper,words))\n",
    "print(upper_case)"
   ]
  },
  {
   "cell_type": "code",
   "execution_count": 11,
   "metadata": {},
   "outputs": [
    {
     "data": {
      "text/plain": [
       "[21, 25]"
      ]
     },
     "execution_count": 11,
     "metadata": {},
     "output_type": "execute_result"
    }
   ],
   "source": [
    "# Apply Map to Dictionary\n",
    "\n",
    "people = [\n",
    "    {'name':\"Mehdi\",'age':21},\n",
    "    {'name':\"Ali\",'age':25}\n",
    "]\n",
    "\n",
    "def get_value(val):\n",
    "    return val[\"age\"]\n",
    "\n",
    "list(map(get_value,people))\n"
   ]
  }
 ],
 "metadata": {
  "kernelspec": {
   "display_name": "Python 3",
   "language": "python",
   "name": "python3"
  },
  "language_info": {
   "codemirror_mode": {
    "name": "ipython",
    "version": 3
   },
   "file_extension": ".py",
   "mimetype": "text/x-python",
   "name": "python",
   "nbconvert_exporter": "python",
   "pygments_lexer": "ipython3",
   "version": "3.12.0"
  }
 },
 "nbformat": 4,
 "nbformat_minor": 2
}
