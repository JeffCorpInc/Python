{
 "cells": [
  {
   "cell_type": "code",
   "execution_count": null,
   "metadata": {},
   "outputs": [],
   "source": [
    "## FUNCTIONS\n",
    "\n",
    "# 1- Creating Function - Syntax, Multiple Parameter, Default Parameter\n",
    "# 2- Positional Argument\n",
    "# 3- Keywords Arguments\n",
    "# 4- Return Statements\n",
    "# 5- Functions Examples "
   ]
  },
  {
   "cell_type": "code",
   "execution_count": null,
   "metadata": {},
   "outputs": [],
   "source": [
    "## FUNCTIONS - Function is a block of code that perform specific types, Functions helps in organizing code, reusing code,\n",
    "#              and improving readibility."
   ]
  },
  {
   "cell_type": "code",
   "execution_count": null,
   "metadata": {},
   "outputs": [],
   "source": [
    "# Creating Function - Syntax\n",
    "\n",
    "def function_name(parameters):\n",
    "    \"\"\"Docstring/Commenting\"\"\"\n",
    "    \"\"\"Function Body\"\"\"\n",
    "    return expression"
   ]
  },
  {
   "cell_type": "code",
   "execution_count": null,
   "metadata": {},
   "outputs": [
    {
     "name": "stdout",
     "output_type": "stream",
     "text": [
      "Even\n"
     ]
    }
   ],
   "source": [
    "# Function to identify number, even or odd\n",
    "\n",
    "def even_odd(num):\n",
    "    \n",
    "    \"\"\"Identify Even or Odd\"\"\"\n",
    "    if num%2==0:\n",
    "        print(\"Even\")\n",
    "    else:\n",
    "        print(\"Odd\")\n",
    "\n",
    "# Calling Functions\n",
    "\n",
    "even_odd(24)"
   ]
  },
  {
   "cell_type": "code",
   "execution_count": 3,
   "metadata": {},
   "outputs": [
    {
     "data": {
      "text/plain": [
       "46"
      ]
     },
     "execution_count": 3,
     "metadata": {},
     "output_type": "execute_result"
    }
   ],
   "source": [
    "# Creating Function with multiple parameters\n",
    "\n",
    "def add(a,b):\n",
    "    \n",
    "    c = a+b\n",
    "    return c\n",
    "\n",
    "\"\"\"Or Simply return a+b\"\"\"\n",
    "\n",
    "add(12,34)\n"
   ]
  },
  {
   "cell_type": "code",
   "execution_count": null,
   "metadata": {},
   "outputs": [
    {
     "name": "stdout",
     "output_type": "stream",
     "text": [
      "Hello Krish welcome to home\n"
     ]
    }
   ],
   "source": [
    "# Creating Function with Default parameters\n",
    "\n",
    "def greet(name):\n",
    "    print(f\"Hello {name} welcome to home\")\n",
    "\n",
    "greet(\"Krish\")"
   ]
  },
  {
   "cell_type": "code",
   "execution_count": 6,
   "metadata": {},
   "outputs": [
    {
     "name": "stdout",
     "output_type": "stream",
     "text": [
      "Hello Sir welcome to home\n"
     ]
    }
   ],
   "source": [
    "def greet(name=\"Sir\"):\n",
    "    print(f\"Hello {name} welcome to home\")\n",
    "\n",
    "greet()"
   ]
  },
  {
   "cell_type": "code",
   "execution_count": 8,
   "metadata": {},
   "outputs": [
    {
     "name": "stdout",
     "output_type": "stream",
     "text": [
      "1\n",
      "2\n",
      "3\n",
      "4\n",
      "5\n",
      "12\n",
      "34\n",
      "234\n",
      "12\n",
      "123\n",
      "123\n",
      "1\n",
      "23\n",
      "12\n",
      "5\n",
      "436\n",
      "457\n",
      "24\n",
      "5347568\n",
      "35\n",
      "234\n",
      "2\n",
      "36\n",
      "46684\n",
      "556\n",
      "52\n",
      "51\n"
     ]
    }
   ],
   "source": [
    "# Positional Arguments \n",
    "\n",
    "def multiple_args(*args):\n",
    "    for number in args:\n",
    "        print(number)\n",
    "\n",
    "multiple_args(1,2,3,4,5,12,34,234,12,123,123,1,23,12,5,436,457,24,5347568,35,234,2,36,46684,556,52,51) "
   ]
  },
  {
   "cell_type": "code",
   "execution_count": 22,
   "metadata": {},
   "outputs": [
    {
     "name": "stdout",
     "output_type": "stream",
     "text": [
      "Name: Mehdi\n",
      "Full_name: Syed Muhammad Mehdi Jaffari\n",
      "Age: 22\n",
      "Single: True\n",
      "Height: 5.11\n"
     ]
    }
   ],
   "source": [
    "# Keywords Arguments - Run function on key value pairs\n",
    "\n",
    "def multiple_keywords(**kwargs):\n",
    "    for key,value in kwargs.items():\n",
    "        print(f\"{key}: {value}\")\n",
    "\n",
    "multiple_keywords(Name=\"Mehdi\" , Full_name=\"Syed Muhammad Mehdi Jaffari\", Age=22, Single=True, Height = 5.11)"
   ]
  },
  {
   "cell_type": "code",
   "execution_count": 24,
   "metadata": {},
   "outputs": [
    {
     "name": "stdout",
     "output_type": "stream",
     "text": [
      "PA = 1\n",
      "PA = 2\n",
      "PA = 3\n",
      "PA = 4\n",
      "PA = 5\n",
      "PA = 111\n",
      "PA = 100\n",
      "KA = Name: Mehdi\n",
      "KA = Full_name: Syed Muhammad Mehdi Jaffari\n",
      "KA = Age: 22\n",
      "KA = Single: True\n",
      "KA = Height: 5.11\n"
     ]
    }
   ],
   "source": [
    "def merge_both(*pargs,**kwargs):\n",
    "\n",
    "    \"\"\"Positional Arguments\"\"\"\n",
    "    for num in pargs:\n",
    "        print(f\"PA = {num}\")\n",
    "\n",
    "    for key,value in kwargs.items():\n",
    "        print(f\"KA = {key}: {value}\")\n",
    "\n",
    "merge_both(1,2,3,4,5,111,100,Name=\"Mehdi\" , Full_name=\"Syed Muhammad Mehdi Jaffari\", Age=22, Single=True, Height = 5.11)"
   ]
  },
  {
   "cell_type": "code",
   "execution_count": 25,
   "metadata": {},
   "outputs": [
    {
     "data": {
      "text/plain": [
       "(504, 12)"
      ]
     },
     "execution_count": 25,
     "metadata": {},
     "output_type": "execute_result"
    }
   ],
   "source": [
    "## RETURN STATEMENTS\n",
    "\n",
    "def multiply(a,b,c):\n",
    "    return a*b*c,a\n",
    "\n",
    "multiply(12,21,2)"
   ]
  },
  {
   "cell_type": "code",
   "execution_count": 29,
   "metadata": {},
   "outputs": [
    {
     "name": "stdout",
     "output_type": "stream",
     "text": [
      "93.2\n",
      "26.11111111111111\n"
     ]
    }
   ],
   "source": [
    "## EXAMPLE #1\n",
    "\n",
    "def convert_temp(temp,unit):\n",
    "\n",
    "    if unit == \"C\":\n",
    "        return temp * 9/5 + 32           # C to F\n",
    "    elif unit ==\"F\":\n",
    "        return (temp-32)*5/9             # F to C\n",
    "    else:\n",
    "        return None\n",
    "    \n",
    "print(convert_temp(34,\"C\"))\n",
    "print(convert_temp(79,\"F\"))\n"
   ]
  },
  {
   "cell_type": "code",
   "execution_count": 34,
   "metadata": {},
   "outputs": [
    {
     "name": "stdout",
     "output_type": "stream",
     "text": [
      "False\n",
      "True\n"
     ]
    }
   ],
   "source": [
    "## EXAMPLE #2\n",
    "\n",
    "def is_strong_pass(password):\n",
    "\n",
    "    if len(password)<8:\n",
    "        return False\n",
    "    if not any(char.isdigit() for char in password):\n",
    "        return False\n",
    "    if not any(char.islower() for char in password):\n",
    "        return False\n",
    "    if not any(char.isupper() for char in password):\n",
    "        return False\n",
    "    if not any(char in \"!$#%^&*()+_\" for char in password):\n",
    "        return False\n",
    "    return True\n",
    "    \n",
    "    # Calling Function\n",
    "\n",
    "\n",
    "print(is_strong_pass(\"mehdijaffari\"))\n",
    "print(is_strong_pass(\"mehdiJaffari!1\"))\n"
   ]
  },
  {
   "cell_type": "code",
   "execution_count": 39,
   "metadata": {},
   "outputs": [
    {
     "data": {
      "text/plain": [
       "10.68"
      ]
     },
     "execution_count": 39,
     "metadata": {},
     "output_type": "execute_result"
    }
   ],
   "source": [
    "## EXAMPLE #2\n",
    "\n",
    "def cal_total_cost(cart):\n",
    "    \n",
    "    total_cost = 0\n",
    "\n",
    "    for item in cart:\n",
    "        total_cost+= item['Cost'] * item['Quantity']\n",
    "    return total_cost\n",
    "\n",
    "# Cart \n",
    "\n",
    "cart = [\n",
    "    {\"name\": \"Apple\", \"Cost\": 0.5, \"Quantity\": 6},\n",
    "    {\"name\": \"Banana\", \"Cost\": 0.2, \"Quantity\": 12},\n",
    "    {\"name\": \"Oranges\", \"Cost\": 0.66, \"Quantity\": 8}\n",
    "]\n",
    "\n",
    "# Calling \n",
    "\n",
    "cal_total_cost(cart)"
   ]
  }
 ],
 "metadata": {
  "kernelspec": {
   "display_name": "Python 3",
   "language": "python",
   "name": "python3"
  },
  "language_info": {
   "codemirror_mode": {
    "name": "ipython",
    "version": 3
   },
   "file_extension": ".py",
   "mimetype": "text/x-python",
   "name": "python",
   "nbconvert_exporter": "python",
   "pygments_lexer": "ipython3",
   "version": "3.12.0"
  }
 },
 "nbformat": 4,
 "nbformat_minor": 2
}
