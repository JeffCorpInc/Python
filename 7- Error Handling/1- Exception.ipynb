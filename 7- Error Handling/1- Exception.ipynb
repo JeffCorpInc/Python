{
 "cells": [
  {
   "cell_type": "code",
   "execution_count": null,
   "metadata": {},
   "outputs": [],
   "source": [
    "## EXCEPTION HANDLING\n",
    "\n",
    "# 0- What is Exception\n",
    "# 1- Exception using TRY, EXCEPT Block\n",
    "# 2- Exception using TRY, EXCEPT, ELSE Block\n",
    "# 3- Exception using TRY, EXCEPT, ELSE, FINALLY Block \n",
    "# 4- File and Exception Handling"
   ]
  },
  {
   "cell_type": "code",
   "execution_count": null,
   "metadata": {},
   "outputs": [],
   "source": [
    "## EXCEPTION HANDLING - it allows to handle errors gracefully and take corrective actions without stopping the execution of the\n",
    "#                       program.\n",
    "\n",
    "## WHAT ARE EXCEPTIONS - are events that disrupt the normal flow o f program. They occur when an error is encountered during program\n",
    "#                        execution."
   ]
  },
  {
   "cell_type": "code",
   "execution_count": 5,
   "metadata": {},
   "outputs": [
    {
     "name": "stdout",
     "output_type": "stream",
     "text": [
      "Variable is not defined\n"
     ]
    }
   ],
   "source": [
    "## EXCEPTION TRY, EXCEPT BLOCK\n",
    "\n",
    "try:\n",
    "    a=b \n",
    "except:\n",
    "    print(\"Variable is not defined\")"
   ]
  },
  {
   "cell_type": "code",
   "execution_count": 6,
   "metadata": {},
   "outputs": [
    {
     "ename": "NameError",
     "evalue": "name 'b' is not defined",
     "output_type": "error",
     "traceback": [
      "\u001b[1;31m---------------------------------------------------------------------------\u001b[0m",
      "\u001b[1;31mNameError\u001b[0m                                 Traceback (most recent call last)",
      "Cell \u001b[1;32mIn[6], line 1\u001b[0m\n\u001b[1;32m----> 1\u001b[0m a\u001b[38;5;241m=\u001b[39m\u001b[43mb\u001b[49m\n",
      "\u001b[1;31mNameError\u001b[0m: name 'b' is not defined"
     ]
    }
   ],
   "source": [
    "a=b"
   ]
  },
  {
   "cell_type": "code",
   "execution_count": null,
   "metadata": {},
   "outputs": [
    {
     "name": "stdout",
     "output_type": "stream",
     "text": [
      "name 'b' is not defined\n"
     ]
    }
   ],
   "source": [
    "try:\n",
    "    a=b \n",
    "except NameError as ex:                 # Using NameError Exception we can customize the error handling\n",
    "    print(ex)                           # ex is alias\n"
   ]
  },
  {
   "cell_type": "code",
   "execution_count": 8,
   "metadata": {},
   "outputs": [
    {
     "ename": "ZeroDivisionError",
     "evalue": "division by zero",
     "output_type": "error",
     "traceback": [
      "\u001b[1;31m---------------------------------------------------------------------------\u001b[0m",
      "\u001b[1;31mZeroDivisionError\u001b[0m                         Traceback (most recent call last)",
      "Cell \u001b[1;32mIn[8], line 1\u001b[0m\n\u001b[1;32m----> 1\u001b[0m res \u001b[38;5;241m=\u001b[39m \u001b[38;5;241;43m1\u001b[39;49m\u001b[38;5;241;43m/\u001b[39;49m\u001b[38;5;241;43m0\u001b[39;49m\n",
      "\u001b[1;31mZeroDivisionError\u001b[0m: division by zero"
     ]
    }
   ],
   "source": [
    "res = 1/0"
   ]
  },
  {
   "cell_type": "code",
   "execution_count": 9,
   "metadata": {},
   "outputs": [
    {
     "name": "stdout",
     "output_type": "stream",
     "text": [
      "division by zero\n",
      "0 Can not be divide by a number\n"
     ]
    }
   ],
   "source": [
    "try:\n",
    "    res = 1/0\n",
    "except ZeroDivisionError as ex:\n",
    "    print(ex)\n",
    "    print(\"0 Can not be divide by a number\")\n"
   ]
  },
  {
   "cell_type": "code",
   "execution_count": 10,
   "metadata": {},
   "outputs": [
    {
     "ename": "NameError",
     "evalue": "name 'b' is not defined",
     "output_type": "error",
     "traceback": [
      "\u001b[1;31m---------------------------------------------------------------------------\u001b[0m",
      "\u001b[1;31mNameError\u001b[0m                                 Traceback (most recent call last)",
      "Cell \u001b[1;32mIn[10], line 3\u001b[0m\n\u001b[0;32m      1\u001b[0m \u001b[38;5;28;01mtry\u001b[39;00m:\n\u001b[0;32m      2\u001b[0m     res \u001b[38;5;241m=\u001b[39m \u001b[38;5;241m1\u001b[39m\u001b[38;5;241m/\u001b[39m\u001b[38;5;241m2\u001b[39m\n\u001b[1;32m----> 3\u001b[0m     a\u001b[38;5;241m=\u001b[39m\u001b[43mb\u001b[49m\n\u001b[0;32m      4\u001b[0m \u001b[38;5;28;01mexcept\u001b[39;00m \u001b[38;5;167;01mZeroDivisionError\u001b[39;00m \u001b[38;5;28;01mas\u001b[39;00m ex:\n\u001b[0;32m      5\u001b[0m     \u001b[38;5;28mprint\u001b[39m(ex)\n",
      "\u001b[1;31mNameError\u001b[0m: name 'b' is not defined"
     ]
    }
   ],
   "source": [
    "try:\n",
    "    res = 1/2\n",
    "    a=b\n",
    "except ZeroDivisionError as ex:\n",
    "    print(ex)\n",
    "    print(\"0 Can not be divide by a number\")"
   ]
  },
  {
   "cell_type": "code",
   "execution_count": null,
   "metadata": {},
   "outputs": [
    {
     "name": "stdout",
     "output_type": "stream",
     "text": [
      "name 'b' is not defined\n"
     ]
    }
   ],
   "source": [
    "try:\n",
    "    res = 1/2\n",
    "    a=b\n",
    "except ZeroDivisionError as ex:\n",
    "    print(ex)\n",
    "    print(\"0 Can not be divide by a number\")\n",
    "\n",
    "except Exception as ex1:                                    # \"Exception\" is a class of all the Errors and it should be written at the end\n",
    "    print(ex1)"
   ]
  },
  {
   "cell_type": "code",
   "execution_count": 4,
   "metadata": {},
   "outputs": [
    {
     "name": "stdout",
     "output_type": "stream",
     "text": [
      "This is not a valid number\n"
     ]
    }
   ],
   "source": [
    "try:\n",
    "    num = int(input(\"Enter Number\"))\n",
    "    res = 10/num\n",
    "except ZeroDivisionError:\n",
    "    print(\"Number cant be divisible by 0\")\n",
    "except ValueError:\n",
    "    print(\"This is not a valid number\")\n",
    "except Exception as ex:\n",
    "    print(ex)"
   ]
  },
  {
   "cell_type": "code",
   "execution_count": null,
   "metadata": {},
   "outputs": [
    {
     "name": "stdout",
     "output_type": "stream",
     "text": [
      "The result is '2.5'\n"
     ]
    }
   ],
   "source": [
    "## HANDLING USING TRY, EXCEPT, ELSE BLOCK\n",
    "\n",
    "try:\n",
    "    num = float(input(\"Enter Number\"))\n",
    "    res = 10/num\n",
    "except ZeroDivisionError:\n",
    "    print(\"Number cant be divisible by 0\")\n",
    "except ValueError:\n",
    "    print(\"This is not a valid number\")\n",
    "except Exception as ex:\n",
    "    print(ex)\n",
    "else:                                                   # If there is no error in the code, then else block will display the result\n",
    "    print(f\"The result is {res}\")\n"
   ]
  },
  {
   "cell_type": "code",
   "execution_count": null,
   "metadata": {},
   "outputs": [
    {
     "name": "stdout",
     "output_type": "stream",
     "text": [
      "The result is 10.0\n",
      "Execution is Completed\n"
     ]
    }
   ],
   "source": [
    "## HANDLING USING TRY, EXCEPT, ELSE AND FINALLY BLOCK\n",
    "\n",
    "try:\n",
    "    num = float(input(\"Enter Number\"))\n",
    "    res = 10/num\n",
    "except ZeroDivisionError:\n",
    "    print(\"Number cant be divisible by 0\")\n",
    "except ValueError:\n",
    "    print(\"This is not a valid number\")\n",
    "except Exception as ex:\n",
    "    print(ex)\n",
    "else:\n",
    "    print(f\"The result is {res}\")\n",
    "finally:                                            # \"Finally\" block must show the output either error occured to result is successfull\n",
    "    print(\"Execution is Completed\")\n"
   ]
  },
  {
   "cell_type": "code",
   "execution_count": 14,
   "metadata": {},
   "outputs": [
    {
     "name": "stdout",
     "output_type": "stream",
     "text": [
      "File is closed\n"
     ]
    }
   ],
   "source": [
    "## FILE HANDLING AND EXCEPTION HANDLING\n",
    "\n",
    "try:\n",
    "    file=open('example.txt','r')\n",
    "    content = file.read()\n",
    "except FileNotFoundError:\n",
    "    print(\"File does not exists\")\n",
    "except Exception as ex:\n",
    "    print(ex)\n",
    "\n",
    "finally:\n",
    "    if 'file' in locals() or not file.closed():\n",
    "        print(\"File is closed\")"
   ]
  }
 ],
 "metadata": {
  "kernelspec": {
   "display_name": "Python 3",
   "language": "python",
   "name": "python3"
  },
  "language_info": {
   "codemirror_mode": {
    "name": "ipython",
    "version": 3
   },
   "file_extension": ".py",
   "mimetype": "text/x-python",
   "name": "python",
   "nbconvert_exporter": "python",
   "pygments_lexer": "ipython3",
   "version": "3.12.0"
  }
 },
 "nbformat": 4,
 "nbformat_minor": 2
}
